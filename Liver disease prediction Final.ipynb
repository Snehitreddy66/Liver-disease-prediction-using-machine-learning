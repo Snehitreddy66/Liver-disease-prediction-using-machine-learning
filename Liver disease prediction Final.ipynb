{
 "cells": [
  {
   "cell_type": "code",
   "execution_count": 1,
   "id": "1551734e",
   "metadata": {
    "ExecuteTime": {
     "end_time": "2023-05-03T14:28:50.635312Z",
     "start_time": "2023-05-03T14:28:48.765221Z"
    },
    "_cell_guid": "b1076dfc-b9ad-4769-8c92-a6c4dae69d19",
    "_uuid": "8f2839f25d086af736a60e9eeb907d3b93b6e0e5",
    "execution": {
     "iopub.execute_input": "2023-03-01T08:27:07.893250Z",
     "iopub.status.busy": "2023-03-01T08:27:07.892609Z",
     "iopub.status.idle": "2023-03-01T08:27:09.001765Z",
     "shell.execute_reply": "2023-03-01T08:27:09.001031Z",
     "shell.execute_reply.started": "2023-03-01T08:11:03.978092Z"
    },
    "papermill": {
     "duration": 1.157378,
     "end_time": "2023-03-01T08:27:09.001915",
     "exception": false,
     "start_time": "2023-03-01T08:27:07.844537",
     "status": "completed"
    },
    "tags": []
   },
   "outputs": [],
   "source": [
    "# import required libraries for data analysis\n",
    "import numpy as np\n",
    "import pandas as pd\n",
    "import matplotlib.pyplot as plt\n",
    "import seaborn as sns\n",
    "\n",
    "%matplotlib inline\n",
    "import warnings\n",
    "warnings.filterwarnings('ignore')"
   ]
  },
  {
   "cell_type": "code",
   "execution_count": 2,
   "id": "7d1c2ce2",
   "metadata": {
    "ExecuteTime": {
     "end_time": "2023-05-03T14:28:50.713792Z",
     "start_time": "2023-05-03T14:28:50.637332Z"
    },
    "_cell_guid": "79c7e3d0-c299-4dcb-8224-4455121ee9b0",
    "_uuid": "d629ff2d2480ee46fbb7e2d37f6b5fab8052498a",
    "execution": {
     "iopub.execute_input": "2023-03-01T08:27:09.082855Z",
     "iopub.status.busy": "2023-03-01T08:27:09.082265Z",
     "iopub.status.idle": "2023-03-01T08:27:09.110414Z",
     "shell.execute_reply": "2023-03-01T08:27:09.109797Z",
     "shell.execute_reply.started": "2023-03-01T08:11:08.721469Z"
    },
    "papermill": {
     "duration": 0.070602,
     "end_time": "2023-03-01T08:27:09.110563",
     "exception": false,
     "start_time": "2023-03-01T08:27:09.039961",
     "status": "completed"
    },
    "tags": []
   },
   "outputs": [
    {
     "data": {
      "text/html": [
       "<div>\n",
       "<style scoped>\n",
       "    .dataframe tbody tr th:only-of-type {\n",
       "        vertical-align: middle;\n",
       "    }\n",
       "\n",
       "    .dataframe tbody tr th {\n",
       "        vertical-align: top;\n",
       "    }\n",
       "\n",
       "    .dataframe thead th {\n",
       "        text-align: right;\n",
       "    }\n",
       "</style>\n",
       "<table border=\"1\" class=\"dataframe\">\n",
       "  <thead>\n",
       "    <tr style=\"text-align: right;\">\n",
       "      <th></th>\n",
       "      <th>age</th>\n",
       "      <th>gender</th>\n",
       "      <th>total_bilirubin</th>\n",
       "      <th>direct_bilirubin</th>\n",
       "      <th>alkaline_phosphotase</th>\n",
       "      <th>alamine_aminotransferase</th>\n",
       "      <th>aspartate_aminotransferase</th>\n",
       "      <th>total_protiens</th>\n",
       "      <th>albumin</th>\n",
       "      <th>albumin_and_globulin_ratio</th>\n",
       "      <th>dataset</th>\n",
       "    </tr>\n",
       "  </thead>\n",
       "  <tbody>\n",
       "    <tr>\n",
       "      <th>0</th>\n",
       "      <td>65</td>\n",
       "      <td>Female</td>\n",
       "      <td>0.7</td>\n",
       "      <td>0.1</td>\n",
       "      <td>187</td>\n",
       "      <td>16</td>\n",
       "      <td>18</td>\n",
       "      <td>6.8</td>\n",
       "      <td>3.3</td>\n",
       "      <td>0.90</td>\n",
       "      <td>1</td>\n",
       "    </tr>\n",
       "    <tr>\n",
       "      <th>1</th>\n",
       "      <td>62</td>\n",
       "      <td>Male</td>\n",
       "      <td>10.9</td>\n",
       "      <td>5.5</td>\n",
       "      <td>699</td>\n",
       "      <td>64</td>\n",
       "      <td>100</td>\n",
       "      <td>7.5</td>\n",
       "      <td>3.2</td>\n",
       "      <td>0.74</td>\n",
       "      <td>1</td>\n",
       "    </tr>\n",
       "    <tr>\n",
       "      <th>2</th>\n",
       "      <td>62</td>\n",
       "      <td>Male</td>\n",
       "      <td>7.3</td>\n",
       "      <td>4.1</td>\n",
       "      <td>490</td>\n",
       "      <td>60</td>\n",
       "      <td>68</td>\n",
       "      <td>7.0</td>\n",
       "      <td>3.3</td>\n",
       "      <td>0.89</td>\n",
       "      <td>1</td>\n",
       "    </tr>\n",
       "    <tr>\n",
       "      <th>3</th>\n",
       "      <td>58</td>\n",
       "      <td>Male</td>\n",
       "      <td>1.0</td>\n",
       "      <td>0.4</td>\n",
       "      <td>182</td>\n",
       "      <td>14</td>\n",
       "      <td>20</td>\n",
       "      <td>6.8</td>\n",
       "      <td>3.4</td>\n",
       "      <td>1.00</td>\n",
       "      <td>1</td>\n",
       "    </tr>\n",
       "    <tr>\n",
       "      <th>4</th>\n",
       "      <td>72</td>\n",
       "      <td>Male</td>\n",
       "      <td>3.9</td>\n",
       "      <td>2.0</td>\n",
       "      <td>195</td>\n",
       "      <td>27</td>\n",
       "      <td>59</td>\n",
       "      <td>7.3</td>\n",
       "      <td>2.4</td>\n",
       "      <td>0.40</td>\n",
       "      <td>1</td>\n",
       "    </tr>\n",
       "  </tbody>\n",
       "</table>\n",
       "</div>"
      ],
      "text/plain": [
       "   age  gender  total_bilirubin  direct_bilirubin  alkaline_phosphotase  \\\n",
       "0   65  Female              0.7               0.1                   187   \n",
       "1   62    Male             10.9               5.5                   699   \n",
       "2   62    Male              7.3               4.1                   490   \n",
       "3   58    Male              1.0               0.4                   182   \n",
       "4   72    Male              3.9               2.0                   195   \n",
       "\n",
       "   alamine_aminotransferase  aspartate_aminotransferase  total_protiens  \\\n",
       "0                        16                          18             6.8   \n",
       "1                        64                         100             7.5   \n",
       "2                        60                          68             7.0   \n",
       "3                        14                          20             6.8   \n",
       "4                        27                          59             7.3   \n",
       "\n",
       "   albumin  albumin_and_globulin_ratio  dataset  \n",
       "0      3.3                        0.90        1  \n",
       "1      3.2                        0.74        1  \n",
       "2      3.3                        0.89        1  \n",
       "3      3.4                        1.00        1  \n",
       "4      2.4                        0.40        1  "
      ]
     },
     "execution_count": 2,
     "metadata": {},
     "output_type": "execute_result"
    }
   ],
   "source": [
    "# open csv file\n",
    "df = pd.read_csv('indian_liver_patient.csv')\n",
    "df.columns = df.columns.map(str.lower)                              # column names to lowercase\n",
    "df.head()"
   ]
  },
  {
   "cell_type": "code",
   "execution_count": 3,
   "id": "9ae0c186",
   "metadata": {
    "ExecuteTime": {
     "end_time": "2023-05-03T14:28:50.729912Z",
     "start_time": "2023-05-03T14:28:50.715697Z"
    },
    "execution": {
     "iopub.execute_input": "2023-03-01T08:27:09.204093Z",
     "iopub.status.busy": "2023-03-01T08:27:09.198843Z",
     "iopub.status.idle": "2023-03-01T08:27:09.208658Z",
     "shell.execute_reply": "2023-03-01T08:27:09.209219Z",
     "shell.execute_reply.started": "2023-03-01T08:11:20.284042Z"
    },
    "papermill": {
     "duration": 0.058718,
     "end_time": "2023-03-01T08:27:09.209385",
     "exception": false,
     "start_time": "2023-03-01T08:27:09.150667",
     "status": "completed"
    },
    "tags": []
   },
   "outputs": [
    {
     "name": "stdout",
     "output_type": "stream",
     "text": [
      "<class 'pandas.core.frame.DataFrame'>\n",
      "RangeIndex: 583 entries, 0 to 582\n",
      "Data columns (total 11 columns):\n",
      " #   Column                      Non-Null Count  Dtype  \n",
      "---  ------                      --------------  -----  \n",
      " 0   age                         583 non-null    int64  \n",
      " 1   gender                      583 non-null    object \n",
      " 2   total_bilirubin             583 non-null    float64\n",
      " 3   direct_bilirubin            583 non-null    float64\n",
      " 4   alkaline_phosphotase        583 non-null    int64  \n",
      " 5   alamine_aminotransferase    583 non-null    int64  \n",
      " 6   aspartate_aminotransferase  583 non-null    int64  \n",
      " 7   total_protiens              583 non-null    float64\n",
      " 8   albumin                     583 non-null    float64\n",
      " 9   albumin_and_globulin_ratio  579 non-null    float64\n",
      " 10  dataset                     583 non-null    int64  \n",
      "dtypes: float64(5), int64(5), object(1)\n",
      "memory usage: 50.2+ KB\n"
     ]
    }
   ],
   "source": [
    "# check data types, it provides also details on null values, so next checking of null values may not be required\n",
    "df.info()"
   ]
  },
  {
   "cell_type": "code",
   "execution_count": 4,
   "id": "58f2e3e0",
   "metadata": {
    "ExecuteTime": {
     "end_time": "2023-05-03T14:28:50.793330Z",
     "start_time": "2023-05-03T14:28:50.732803Z"
    },
    "execution": {
     "iopub.execute_input": "2023-03-01T08:27:09.294344Z",
     "iopub.status.busy": "2023-03-01T08:27:09.291572Z",
     "iopub.status.idle": "2023-03-01T08:27:09.326403Z",
     "shell.execute_reply": "2023-03-01T08:27:09.325923Z",
     "shell.execute_reply.started": "2023-03-01T08:11:24.624973Z"
    },
    "papermill": {
     "duration": 0.078586,
     "end_time": "2023-03-01T08:27:09.326522",
     "exception": false,
     "start_time": "2023-03-01T08:27:09.247936",
     "status": "completed"
    },
    "tags": []
   },
   "outputs": [
    {
     "data": {
      "text/html": [
       "<div>\n",
       "<style scoped>\n",
       "    .dataframe tbody tr th:only-of-type {\n",
       "        vertical-align: middle;\n",
       "    }\n",
       "\n",
       "    .dataframe tbody tr th {\n",
       "        vertical-align: top;\n",
       "    }\n",
       "\n",
       "    .dataframe thead th {\n",
       "        text-align: right;\n",
       "    }\n",
       "</style>\n",
       "<table border=\"1\" class=\"dataframe\">\n",
       "  <thead>\n",
       "    <tr style=\"text-align: right;\">\n",
       "      <th></th>\n",
       "      <th>count</th>\n",
       "      <th>unique</th>\n",
       "      <th>top</th>\n",
       "      <th>freq</th>\n",
       "      <th>mean</th>\n",
       "      <th>std</th>\n",
       "      <th>min</th>\n",
       "      <th>25%</th>\n",
       "      <th>50%</th>\n",
       "      <th>75%</th>\n",
       "      <th>max</th>\n",
       "    </tr>\n",
       "  </thead>\n",
       "  <tbody>\n",
       "    <tr>\n",
       "      <th>age</th>\n",
       "      <td>583.0</td>\n",
       "      <td>NaN</td>\n",
       "      <td>NaN</td>\n",
       "      <td>NaN</td>\n",
       "      <td>44.746141</td>\n",
       "      <td>16.189833</td>\n",
       "      <td>4.0</td>\n",
       "      <td>33.0</td>\n",
       "      <td>45.0</td>\n",
       "      <td>58.0</td>\n",
       "      <td>90.0</td>\n",
       "    </tr>\n",
       "    <tr>\n",
       "      <th>gender</th>\n",
       "      <td>583</td>\n",
       "      <td>2</td>\n",
       "      <td>Male</td>\n",
       "      <td>441</td>\n",
       "      <td>NaN</td>\n",
       "      <td>NaN</td>\n",
       "      <td>NaN</td>\n",
       "      <td>NaN</td>\n",
       "      <td>NaN</td>\n",
       "      <td>NaN</td>\n",
       "      <td>NaN</td>\n",
       "    </tr>\n",
       "    <tr>\n",
       "      <th>total_bilirubin</th>\n",
       "      <td>583.0</td>\n",
       "      <td>NaN</td>\n",
       "      <td>NaN</td>\n",
       "      <td>NaN</td>\n",
       "      <td>3.298799</td>\n",
       "      <td>6.209522</td>\n",
       "      <td>0.4</td>\n",
       "      <td>0.8</td>\n",
       "      <td>1.0</td>\n",
       "      <td>2.6</td>\n",
       "      <td>75.0</td>\n",
       "    </tr>\n",
       "    <tr>\n",
       "      <th>direct_bilirubin</th>\n",
       "      <td>583.0</td>\n",
       "      <td>NaN</td>\n",
       "      <td>NaN</td>\n",
       "      <td>NaN</td>\n",
       "      <td>1.486106</td>\n",
       "      <td>2.808498</td>\n",
       "      <td>0.1</td>\n",
       "      <td>0.2</td>\n",
       "      <td>0.3</td>\n",
       "      <td>1.3</td>\n",
       "      <td>19.7</td>\n",
       "    </tr>\n",
       "    <tr>\n",
       "      <th>alkaline_phosphotase</th>\n",
       "      <td>583.0</td>\n",
       "      <td>NaN</td>\n",
       "      <td>NaN</td>\n",
       "      <td>NaN</td>\n",
       "      <td>290.576329</td>\n",
       "      <td>242.937989</td>\n",
       "      <td>63.0</td>\n",
       "      <td>175.5</td>\n",
       "      <td>208.0</td>\n",
       "      <td>298.0</td>\n",
       "      <td>2110.0</td>\n",
       "    </tr>\n",
       "    <tr>\n",
       "      <th>alamine_aminotransferase</th>\n",
       "      <td>583.0</td>\n",
       "      <td>NaN</td>\n",
       "      <td>NaN</td>\n",
       "      <td>NaN</td>\n",
       "      <td>80.713551</td>\n",
       "      <td>182.620356</td>\n",
       "      <td>10.0</td>\n",
       "      <td>23.0</td>\n",
       "      <td>35.0</td>\n",
       "      <td>60.5</td>\n",
       "      <td>2000.0</td>\n",
       "    </tr>\n",
       "    <tr>\n",
       "      <th>aspartate_aminotransferase</th>\n",
       "      <td>583.0</td>\n",
       "      <td>NaN</td>\n",
       "      <td>NaN</td>\n",
       "      <td>NaN</td>\n",
       "      <td>109.910806</td>\n",
       "      <td>288.918529</td>\n",
       "      <td>10.0</td>\n",
       "      <td>25.0</td>\n",
       "      <td>42.0</td>\n",
       "      <td>87.0</td>\n",
       "      <td>4929.0</td>\n",
       "    </tr>\n",
       "    <tr>\n",
       "      <th>total_protiens</th>\n",
       "      <td>583.0</td>\n",
       "      <td>NaN</td>\n",
       "      <td>NaN</td>\n",
       "      <td>NaN</td>\n",
       "      <td>6.48319</td>\n",
       "      <td>1.085451</td>\n",
       "      <td>2.7</td>\n",
       "      <td>5.8</td>\n",
       "      <td>6.6</td>\n",
       "      <td>7.2</td>\n",
       "      <td>9.6</td>\n",
       "    </tr>\n",
       "    <tr>\n",
       "      <th>albumin</th>\n",
       "      <td>583.0</td>\n",
       "      <td>NaN</td>\n",
       "      <td>NaN</td>\n",
       "      <td>NaN</td>\n",
       "      <td>3.141852</td>\n",
       "      <td>0.795519</td>\n",
       "      <td>0.9</td>\n",
       "      <td>2.6</td>\n",
       "      <td>3.1</td>\n",
       "      <td>3.8</td>\n",
       "      <td>5.5</td>\n",
       "    </tr>\n",
       "    <tr>\n",
       "      <th>albumin_and_globulin_ratio</th>\n",
       "      <td>579.0</td>\n",
       "      <td>NaN</td>\n",
       "      <td>NaN</td>\n",
       "      <td>NaN</td>\n",
       "      <td>0.947064</td>\n",
       "      <td>0.319592</td>\n",
       "      <td>0.3</td>\n",
       "      <td>0.7</td>\n",
       "      <td>0.93</td>\n",
       "      <td>1.1</td>\n",
       "      <td>2.8</td>\n",
       "    </tr>\n",
       "    <tr>\n",
       "      <th>dataset</th>\n",
       "      <td>583.0</td>\n",
       "      <td>NaN</td>\n",
       "      <td>NaN</td>\n",
       "      <td>NaN</td>\n",
       "      <td>1.286449</td>\n",
       "      <td>0.45249</td>\n",
       "      <td>1.0</td>\n",
       "      <td>1.0</td>\n",
       "      <td>1.0</td>\n",
       "      <td>2.0</td>\n",
       "      <td>2.0</td>\n",
       "    </tr>\n",
       "  </tbody>\n",
       "</table>\n",
       "</div>"
      ],
      "text/plain": [
       "                            count unique   top freq        mean         std  \\\n",
       "age                         583.0    NaN   NaN  NaN   44.746141   16.189833   \n",
       "gender                        583      2  Male  441         NaN         NaN   \n",
       "total_bilirubin             583.0    NaN   NaN  NaN    3.298799    6.209522   \n",
       "direct_bilirubin            583.0    NaN   NaN  NaN    1.486106    2.808498   \n",
       "alkaline_phosphotase        583.0    NaN   NaN  NaN  290.576329  242.937989   \n",
       "alamine_aminotransferase    583.0    NaN   NaN  NaN   80.713551  182.620356   \n",
       "aspartate_aminotransferase  583.0    NaN   NaN  NaN  109.910806  288.918529   \n",
       "total_protiens              583.0    NaN   NaN  NaN     6.48319    1.085451   \n",
       "albumin                     583.0    NaN   NaN  NaN    3.141852    0.795519   \n",
       "albumin_and_globulin_ratio  579.0    NaN   NaN  NaN    0.947064    0.319592   \n",
       "dataset                     583.0    NaN   NaN  NaN    1.286449     0.45249   \n",
       "\n",
       "                             min    25%    50%    75%     max  \n",
       "age                          4.0   33.0   45.0   58.0    90.0  \n",
       "gender                       NaN    NaN    NaN    NaN     NaN  \n",
       "total_bilirubin              0.4    0.8    1.0    2.6    75.0  \n",
       "direct_bilirubin             0.1    0.2    0.3    1.3    19.7  \n",
       "alkaline_phosphotase        63.0  175.5  208.0  298.0  2110.0  \n",
       "alamine_aminotransferase    10.0   23.0   35.0   60.5  2000.0  \n",
       "aspartate_aminotransferase  10.0   25.0   42.0   87.0  4929.0  \n",
       "total_protiens               2.7    5.8    6.6    7.2     9.6  \n",
       "albumin                      0.9    2.6    3.1    3.8     5.5  \n",
       "albumin_and_globulin_ratio   0.3    0.7   0.93    1.1     2.8  \n",
       "dataset                      1.0    1.0    1.0    2.0     2.0  "
      ]
     },
     "execution_count": 4,
     "metadata": {},
     "output_type": "execute_result"
    }
   ],
   "source": [
    "df.describe(include='all').T"
   ]
  },
  {
   "cell_type": "markdown",
   "id": "826af599",
   "metadata": {
    "papermill": {
     "duration": 0.039458,
     "end_time": "2023-03-01T08:27:09.484069",
     "exception": false,
     "start_time": "2023-03-01T08:27:09.444611",
     "status": "completed"
    },
    "tags": []
   },
   "source": [
    "### Handle missing values\n",
    "We are going to fix missing values on albumin_and_globulin_ratio field, easiest way is often best way, so just replace it with mean or median"
   ]
  },
  {
   "cell_type": "code",
   "execution_count": 5,
   "id": "d1b04d86",
   "metadata": {
    "ExecuteTime": {
     "end_time": "2023-05-03T14:28:50.809343Z",
     "start_time": "2023-05-03T14:28:50.799338Z"
    },
    "execution": {
     "iopub.execute_input": "2023-03-01T08:27:09.568436Z",
     "iopub.status.busy": "2023-03-01T08:27:09.567668Z",
     "iopub.status.idle": "2023-03-01T08:27:09.570255Z",
     "shell.execute_reply": "2023-03-01T08:27:09.569671Z",
     "shell.execute_reply.started": "2023-03-01T08:11:31.201897Z"
    },
    "papermill": {
     "duration": 0.046348,
     "end_time": "2023-03-01T08:27:09.570390",
     "exception": false,
     "start_time": "2023-03-01T08:27:09.524042",
     "status": "completed"
    },
    "tags": []
   },
   "outputs": [],
   "source": [
    "# replacing missing values with mean\n",
    "df.albumin_and_globulin_ratio.fillna(df.albumin_and_globulin_ratio.mean(), inplace=True)"
   ]
  },
  {
   "cell_type": "code",
   "execution_count": 6,
   "id": "486c76e1",
   "metadata": {
    "ExecuteTime": {
     "end_time": "2023-05-03T14:28:50.824697Z",
     "start_time": "2023-05-03T14:28:50.813675Z"
    },
    "execution": {
     "iopub.execute_input": "2023-03-01T08:27:09.658280Z",
     "iopub.status.busy": "2023-03-01T08:27:09.653748Z",
     "iopub.status.idle": "2023-03-01T08:27:09.661701Z",
     "shell.execute_reply": "2023-03-01T08:27:09.661245Z",
     "shell.execute_reply.started": "2023-03-01T08:11:34.348318Z"
    },
    "papermill": {
     "duration": 0.051725,
     "end_time": "2023-03-01T08:27:09.661818",
     "exception": false,
     "start_time": "2023-03-01T08:27:09.610093",
     "status": "completed"
    },
    "tags": []
   },
   "outputs": [
    {
     "name": "stdout",
     "output_type": "stream",
     "text": [
      "<class 'pandas.core.frame.DataFrame'>\n",
      "RangeIndex: 583 entries, 0 to 582\n",
      "Data columns (total 11 columns):\n",
      " #   Column                      Non-Null Count  Dtype  \n",
      "---  ------                      --------------  -----  \n",
      " 0   age                         583 non-null    int64  \n",
      " 1   gender                      583 non-null    object \n",
      " 2   total_bilirubin             583 non-null    float64\n",
      " 3   direct_bilirubin            583 non-null    float64\n",
      " 4   alkaline_phosphotase        583 non-null    int64  \n",
      " 5   alamine_aminotransferase    583 non-null    int64  \n",
      " 6   aspartate_aminotransferase  583 non-null    int64  \n",
      " 7   total_protiens              583 non-null    float64\n",
      " 8   albumin                     583 non-null    float64\n",
      " 9   albumin_and_globulin_ratio  583 non-null    float64\n",
      " 10  dataset                     583 non-null    int64  \n",
      "dtypes: float64(5), int64(5), object(1)\n",
      "memory usage: 50.2+ KB\n"
     ]
    }
   ],
   "source": [
    "# are there still any missing values?\n",
    "df.info()"
   ]
  },
  {
   "cell_type": "code",
   "execution_count": 7,
   "id": "2e769675",
   "metadata": {
    "ExecuteTime": {
     "end_time": "2023-05-03T14:28:50.840237Z",
     "start_time": "2023-05-03T14:28:50.826690Z"
    },
    "execution": {
     "iopub.execute_input": "2023-03-01T08:28:24.229574Z",
     "iopub.status.busy": "2023-03-01T08:28:24.228996Z",
     "iopub.status.idle": "2023-03-01T08:28:24.231378Z",
     "shell.execute_reply": "2023-03-01T08:28:24.230806Z",
     "shell.execute_reply.started": "2023-03-01T08:14:32.498232Z"
    },
    "papermill": {
     "duration": 0.080992,
     "end_time": "2023-03-01T08:28:24.231497",
     "exception": false,
     "start_time": "2023-03-01T08:28:24.150505",
     "status": "completed"
    },
    "tags": []
   },
   "outputs": [],
   "source": [
    "# this is simply my selection (from highly correlated features, you could also use different from pairs)\n",
    "df.drop(['direct_bilirubin', 'aspartate_aminotransferase', 'total_protiens', 'albumin'], axis=1, inplace=True);"
   ]
  },
  {
   "cell_type": "markdown",
   "id": "7a492f62",
   "metadata": {
    "papermill": {
     "duration": 0.070933,
     "end_time": "2023-03-01T08:28:24.373575",
     "exception": false,
     "start_time": "2023-03-01T08:28:24.302642",
     "status": "completed"
    },
    "tags": []
   },
   "source": [
    "### Outliers & transformation\n",
    "Now check data using boxplot and distplot to see what features are skewed, what is ratio of outliers, if log1p helps etc"
   ]
  },
  {
   "cell_type": "code",
   "execution_count": 8,
   "id": "cf0d21e8",
   "metadata": {
    "ExecuteTime": {
     "end_time": "2023-05-03T14:28:51.696387Z",
     "start_time": "2023-05-03T14:28:50.842204Z"
    },
    "execution": {
     "iopub.execute_input": "2023-03-01T08:28:24.545766Z",
     "iopub.status.busy": "2023-03-01T08:28:24.545084Z",
     "iopub.status.idle": "2023-03-01T08:28:28.046705Z",
     "shell.execute_reply": "2023-03-01T08:28:28.047231Z",
     "shell.execute_reply.started": "2023-03-01T08:14:43.978149Z"
    },
    "papermill": {
     "duration": 3.602218,
     "end_time": "2023-03-01T08:28:28.047401",
     "exception": false,
     "start_time": "2023-03-01T08:28:24.445183",
     "status": "completed"
    },
    "tags": []
   },
   "outputs": [
    {
     "data": {
      "image/png": "[encoded data removed]",
      "text/plain": [
       "<Figure size 1080x1440 with 10 Axes>"
      ]
     },
     "metadata": {
      "needs_background": "light"
     },
     "output_type": "display_data"
    }
   ],
   "source": [
    "# outlier check\n",
    "plt.figure(figsize=(15, 20))\n",
    "\n",
    "for i, c in enumerate(df.drop('dataset', axis=1).select_dtypes(include='number').columns):\n",
    "    plt.subplot(10,2,i*2+1)\n",
    "    sns.boxplot(df[c], color='blue')\n",
    "    plt.title('Distribution plot for field:' + c)\n",
    "    plt.xlabel('')\n",
    "    plt.tight_layout(pad=0.4, w_pad=0.5, h_pad=1.0)\n",
    "\n",
    "    \n",
    "    plt.subplot(10,2,i*2+2)\n",
    "    sns.boxplot(df[c].apply('log1p'), color='red')\n",
    "    plt.title('Log1p distribution plot for field:' + c)\n",
    "    plt.xlabel('')\n",
    "    plt.tight_layout(pad=0.4, w_pad=0.5, h_pad=1.0)"
   ]
  },
  {
   "cell_type": "code",
   "execution_count": 9,
   "id": "d5761beb",
   "metadata": {
    "ExecuteTime": {
     "end_time": "2023-05-03T14:28:52.469547Z",
     "start_time": "2023-05-03T14:28:51.699394Z"
    },
    "execution": {
     "iopub.execute_input": "2023-03-01T08:28:28.243912Z",
     "iopub.status.busy": "2023-03-01T08:28:28.235019Z",
     "iopub.status.idle": "2023-03-01T08:28:30.586839Z",
     "shell.execute_reply": "2023-03-01T08:28:30.587341Z",
     "shell.execute_reply.started": "2023-03-01T08:14:53.375185Z"
    },
    "papermill": {
     "duration": 2.464005,
     "end_time": "2023-03-01T08:28:30.587504",
     "exception": false,
     "start_time": "2023-03-01T08:28:28.123499",
     "status": "completed"
    },
    "tags": []
   },
   "outputs": [
    {
     "data": {
      "image/png": "[encoded data removed]",
      "text/plain": [
       "<Figure size 1080x864 with 6 Axes>"
      ]
     },
     "metadata": {
      "needs_background": "light"
     },
     "output_type": "display_data"
    }
   ],
   "source": [
    "plt.figure(figsize=(15, 12))\n",
    "\n",
    "for i, c in enumerate(df.select_dtypes(include='number').columns):\n",
    "    plt.subplot(5,2,i+1)\n",
    "    sns.distplot(df[c])\n",
    "    plt.title('Distribution plot for field:' + c)\n",
    "    plt.xlabel('')\n",
    "    plt.tight_layout(pad=0.4, w_pad=0.5, h_pad=1.0)\n"
   ]
  },
  {
   "cell_type": "code",
   "execution_count": 10,
   "id": "7cfd1cf4",
   "metadata": {
    "ExecuteTime": {
     "end_time": "2023-05-03T14:28:52.485518Z",
     "start_time": "2023-05-03T14:28:52.474519Z"
    },
    "execution": {
     "iopub.execute_input": "2023-03-01T08:28:30.895872Z",
     "iopub.status.busy": "2023-03-01T08:28:30.895200Z",
     "iopub.status.idle": "2023-03-01T08:28:30.897895Z",
     "shell.execute_reply": "2023-03-01T08:28:30.897447Z",
     "shell.execute_reply.started": "2023-03-01T08:15:02.176122Z"
    },
    "papermill": {
     "duration": 0.081627,
     "end_time": "2023-03-01T08:28:30.898041",
     "exception": false,
     "start_time": "2023-03-01T08:28:30.816414",
     "status": "completed"
    },
    "tags": []
   },
   "outputs": [],
   "source": [
    "# save skewed features\n",
    "skewed_cols = ['albumin_and_globulin_ratio','total_bilirubin', 'alkaline_phosphotase', 'alamine_aminotransferase']"
   ]
  },
  {
   "cell_type": "code",
   "execution_count": 11,
   "id": "9c1cd078",
   "metadata": {
    "ExecuteTime": {
     "end_time": "2023-05-03T14:28:52.501518Z",
     "start_time": "2023-05-03T14:28:52.487516Z"
    },
    "execution": {
     "iopub.execute_input": "2023-03-01T08:28:31.052490Z",
     "iopub.status.busy": "2023-03-01T08:28:31.051883Z",
     "iopub.status.idle": "2023-03-01T08:28:31.055683Z",
     "shell.execute_reply": "2023-03-01T08:28:31.056194Z",
     "shell.execute_reply.started": "2023-03-01T08:15:06.502551Z"
    },
    "papermill": {
     "duration": 0.08386,
     "end_time": "2023-03-01T08:28:31.056359",
     "exception": false,
     "start_time": "2023-03-01T08:28:30.972499",
     "status": "completed"
    },
    "tags": []
   },
   "outputs": [],
   "source": [
    "# Apply log1p transformation on dataframe - just selected values\n",
    "for c in skewed_cols:\n",
    "    df[c] = df[c].apply('log1p')"
   ]
  },
  {
   "cell_type": "code",
   "execution_count": 12,
   "id": "aa5ebc2b",
   "metadata": {
    "ExecuteTime": {
     "end_time": "2023-05-03T14:28:53.023732Z",
     "start_time": "2023-05-03T14:28:52.503540Z"
    },
    "execution": {
     "iopub.execute_input": "2023-03-01T08:28:31.231319Z",
     "iopub.status.busy": "2023-03-01T08:28:31.212975Z",
     "iopub.status.idle": "2023-03-01T08:28:32.606386Z",
     "shell.execute_reply": "2023-03-01T08:28:32.606878Z",
     "shell.execute_reply.started": "2023-03-01T08:15:09.675355Z"
    },
    "papermill": {
     "duration": 1.47518,
     "end_time": "2023-03-01T08:28:32.607056",
     "exception": false,
     "start_time": "2023-03-01T08:28:31.131876",
     "status": "completed"
    },
    "tags": []
   },
   "outputs": [
    {
     "data": {
      "image/png": "[encoded data removed]",
      "text/plain": [
       "<Figure size 1080x864 with 4 Axes>"
      ]
     },
     "metadata": {
      "needs_background": "light"
     },
     "output_type": "display_data"
    }
   ],
   "source": [
    "# Next check & fix strongly skewed features\n",
    "# apply log1p transform\n",
    "plt.figure(figsize=(15, 12))\n",
    "\n",
    "for i, c in enumerate(skewed_cols):\n",
    "    plt.subplot(5,2,i+1)\n",
    "    sns.distplot(df[c].apply(np.log1p))\n",
    "    plt.title('Distribution plot for field:' + c)\n",
    "    plt.xlabel('')\n",
    "    plt.tight_layout(pad=0.4, w_pad=0.5, h_pad=1.0)"
   ]
  },
  {
   "cell_type": "markdown",
   "id": "f5552a3e",
   "metadata": {
    "papermill": {
     "duration": 0.076493,
     "end_time": "2023-03-01T08:28:32.763371",
     "exception": false,
     "start_time": "2023-03-01T08:28:32.686878",
     "status": "completed"
    },
    "tags": []
   },
   "source": [
    "## Encode & Scale\n",
    "I will use sklearn library to encode gender and scale numerical variables"
   ]
  },
  {
   "cell_type": "code",
   "execution_count": 13,
   "id": "0dfe0077",
   "metadata": {
    "ExecuteTime": {
     "end_time": "2023-05-03T14:28:53.163293Z",
     "start_time": "2023-05-03T14:28:53.025753Z"
    },
    "execution": {
     "iopub.execute_input": "2023-03-01T08:28:32.929728Z",
     "iopub.status.busy": "2023-03-01T08:28:32.929135Z",
     "iopub.status.idle": "2023-03-01T08:28:33.058252Z",
     "shell.execute_reply": "2023-03-01T08:28:33.057706Z",
     "shell.execute_reply.started": "2023-03-01T08:15:16.654589Z"
    },
    "papermill": {
     "duration": 0.216202,
     "end_time": "2023-03-01T08:28:33.058393",
     "exception": false,
     "start_time": "2023-03-01T08:28:32.842191",
     "status": "completed"
    },
    "tags": []
   },
   "outputs": [],
   "source": [
    "from sklearn.preprocessing import LabelEncoder, RobustScaler"
   ]
  },
  {
   "cell_type": "code",
   "execution_count": 14,
   "id": "0a6be1bf",
   "metadata": {
    "ExecuteTime": {
     "end_time": "2023-05-03T14:28:53.179192Z",
     "start_time": "2023-05-03T14:28:53.165194Z"
    },
    "execution": {
     "iopub.execute_input": "2023-03-01T08:28:33.237266Z",
     "iopub.status.busy": "2023-03-01T08:28:33.236618Z",
     "iopub.status.idle": "2023-03-01T08:28:33.240366Z",
     "shell.execute_reply": "2023-03-01T08:28:33.239782Z",
     "shell.execute_reply.started": "2023-03-01T08:15:23.484417Z"
    },
    "papermill": {
     "duration": 0.096699,
     "end_time": "2023-03-01T08:28:33.240490",
     "exception": false,
     "start_time": "2023-03-01T08:28:33.143791",
     "status": "completed"
    },
    "tags": []
   },
   "outputs": [
    {
     "data": {
      "text/plain": [
       "0    0\n",
       "1    1\n",
       "2    1\n",
       "3    1\n",
       "4    1\n",
       "Name: gender, dtype: int32"
      ]
     },
     "execution_count": 14,
     "metadata": {},
     "output_type": "execute_result"
    }
   ],
   "source": [
    "# gender contains string values Male, Female; these will be converted into 0, 1, as ML algorithms like just numerical values\n",
    "le = LabelEncoder()\n",
    "df['gender'] = le.fit_transform(df['gender'])\n",
    "df.gender.head()"
   ]
  },
  {
   "cell_type": "code",
   "execution_count": 15,
   "id": "66063799",
   "metadata": {
    "ExecuteTime": {
     "end_time": "2023-05-03T14:28:53.210283Z",
     "start_time": "2023-05-03T14:28:53.181239Z"
    },
    "execution": {
     "iopub.execute_input": "2023-03-01T08:28:33.403111Z",
     "iopub.status.busy": "2023-03-01T08:28:33.402311Z",
     "iopub.status.idle": "2023-03-01T08:28:33.425320Z",
     "shell.execute_reply": "2023-03-01T08:28:33.425821Z",
     "shell.execute_reply.started": "2023-03-01T08:15:28.791104Z"
    },
    "papermill": {
     "duration": 0.107737,
     "end_time": "2023-03-01T08:28:33.426011",
     "exception": false,
     "start_time": "2023-03-01T08:28:33.318274",
     "status": "completed"
    },
    "tags": []
   },
   "outputs": [
    {
     "data": {
      "text/html": [
       "<div>\n",
       "<style scoped>\n",
       "    .dataframe tbody tr th:only-of-type {\n",
       "        vertical-align: middle;\n",
       "    }\n",
       "\n",
       "    .dataframe tbody tr th {\n",
       "        vertical-align: top;\n",
       "    }\n",
       "\n",
       "    .dataframe thead th {\n",
       "        text-align: right;\n",
       "    }\n",
       "</style>\n",
       "<table border=\"1\" class=\"dataframe\">\n",
       "  <thead>\n",
       "    <tr style=\"text-align: right;\">\n",
       "      <th></th>\n",
       "      <th>age</th>\n",
       "      <th>gender</th>\n",
       "      <th>total_bilirubin</th>\n",
       "      <th>alkaline_phosphotase</th>\n",
       "      <th>alamine_aminotransferase</th>\n",
       "      <th>albumin_and_globulin_ratio</th>\n",
       "      <th>dataset</th>\n",
       "    </tr>\n",
       "  </thead>\n",
       "  <tbody>\n",
       "    <tr>\n",
       "      <th>0</th>\n",
       "      <td>0.80</td>\n",
       "      <td>-1.0</td>\n",
       "      <td>-0.234465</td>\n",
       "      <td>-0.200886</td>\n",
       "      <td>-0.797391</td>\n",
       "      <td>-0.115796</td>\n",
       "      <td>1</td>\n",
       "    </tr>\n",
       "    <tr>\n",
       "      <th>1</th>\n",
       "      <td>0.68</td>\n",
       "      <td>0.0</td>\n",
       "      <td>2.572890</td>\n",
       "      <td>2.293084</td>\n",
       "      <td>0.627949</td>\n",
       "      <td>-0.532099</td>\n",
       "      <td>1</td>\n",
       "    </tr>\n",
       "    <tr>\n",
       "      <th>2</th>\n",
       "      <td>0.68</td>\n",
       "      <td>0.0</td>\n",
       "      <td>2.053111</td>\n",
       "      <td>1.620312</td>\n",
       "      <td>0.560449</td>\n",
       "      <td>-0.140769</td>\n",
       "      <td>1</td>\n",
       "    </tr>\n",
       "    <tr>\n",
       "      <th>3</th>\n",
       "      <td>0.52</td>\n",
       "      <td>0.0</td>\n",
       "      <td>0.000000</td>\n",
       "      <td>-0.252023</td>\n",
       "      <td>-0.930409</td>\n",
       "      <td>0.126945</td>\n",
       "      <td>1</td>\n",
       "    </tr>\n",
       "    <tr>\n",
       "      <th>4</th>\n",
       "      <td>1.08</td>\n",
       "      <td>0.0</td>\n",
       "      <td>1.292782</td>\n",
       "      <td>-0.121830</td>\n",
       "      <td>-0.267086</td>\n",
       "      <td>-1.560985</td>\n",
       "      <td>1</td>\n",
       "    </tr>\n",
       "  </tbody>\n",
       "</table>\n",
       "</div>"
      ],
      "text/plain": [
       "    age  gender  total_bilirubin  alkaline_phosphotase  \\\n",
       "0  0.80    -1.0        -0.234465             -0.200886   \n",
       "1  0.68     0.0         2.572890              2.293084   \n",
       "2  0.68     0.0         2.053111              1.620312   \n",
       "3  0.52     0.0         0.000000             -0.252023   \n",
       "4  1.08     0.0         1.292782             -0.121830   \n",
       "\n",
       "   alamine_aminotransferase  albumin_and_globulin_ratio  dataset  \n",
       "0                 -0.797391                   -0.115796        1  \n",
       "1                  0.627949                   -0.532099        1  \n",
       "2                  0.560449                   -0.140769        1  \n",
       "3                 -0.930409                    0.126945        1  \n",
       "4                 -0.267086                   -1.560985        1  "
      ]
     },
     "execution_count": 15,
     "metadata": {},
     "output_type": "execute_result"
    }
   ],
   "source": [
    "rs = RobustScaler()\n",
    "for c in df[['age', 'gender', 'total_bilirubin', 'alkaline_phosphotase', 'alamine_aminotransferase', 'albumin_and_globulin_ratio']].columns:\n",
    "    df[c] = rs.fit_transform(df[c].values.reshape(-1, 1))\n",
    "df.head()"
   ]
  },
  {
   "cell_type": "markdown",
   "id": "ea342594",
   "metadata": {
    "papermill": {
     "duration": 0.082059,
     "end_time": "2023-03-01T08:28:33.594248",
     "exception": false,
     "start_time": "2023-03-01T08:28:33.512189",
     "status": "completed"
    },
    "tags": []
   },
   "source": [
    "## Balance data"
   ]
  },
  {
   "cell_type": "code",
   "execution_count": 16,
   "id": "e0cedec6",
   "metadata": {
    "ExecuteTime": {
     "end_time": "2023-05-03T14:28:53.225374Z",
     "start_time": "2023-05-03T14:28:53.214292Z"
    },
    "execution": {
     "iopub.execute_input": "2023-03-01T08:28:33.774732Z",
     "iopub.status.busy": "2023-03-01T08:28:33.773968Z",
     "iopub.status.idle": "2023-03-01T08:28:33.777976Z",
     "shell.execute_reply": "2023-03-01T08:28:33.777435Z",
     "shell.execute_reply.started": "2023-03-01T08:15:34.021319Z"
    },
    "papermill": {
     "duration": 0.098628,
     "end_time": "2023-03-01T08:28:33.778157",
     "exception": false,
     "start_time": "2023-03-01T08:28:33.679529",
     "status": "completed"
    },
    "tags": []
   },
   "outputs": [
    {
     "data": {
      "text/plain": [
       "1    416\n",
       "2    167\n",
       "Name: dataset, dtype: int64"
      ]
     },
     "execution_count": 16,
     "metadata": {},
     "output_type": "execute_result"
    }
   ],
   "source": [
    "from sklearn.utils import resample\n",
    "df.dataset.value_counts()"
   ]
  },
  {
   "cell_type": "code",
   "execution_count": 17,
   "id": "c99580d6",
   "metadata": {
    "ExecuteTime": {
     "end_time": "2023-05-03T14:28:53.240999Z",
     "start_time": "2023-05-03T14:28:53.227384Z"
    },
    "execution": {
     "iopub.execute_input": "2023-03-01T08:28:33.953721Z",
     "iopub.status.busy": "2023-03-01T08:28:33.953047Z",
     "iopub.status.idle": "2023-03-01T08:28:33.956969Z",
     "shell.execute_reply": "2023-03-01T08:28:33.956472Z",
     "shell.execute_reply.started": "2023-03-01T08:15:37.141802Z"
    },
    "papermill": {
     "duration": 0.09348,
     "end_time": "2023-03-01T08:28:33.957130",
     "exception": false,
     "start_time": "2023-03-01T08:28:33.863650",
     "status": "completed"
    },
    "tags": []
   },
   "outputs": [
    {
     "name": "stdout",
     "output_type": "stream",
     "text": [
      "Minority size: (167, 7)\n",
      "Majority size: (416, 7)\n"
     ]
    }
   ],
   "source": [
    "# Split data on majority and minority.. minority is dataset == 2\n",
    "minority = df[df.dataset==2]\n",
    "majority = df[df.dataset==1]\n",
    "\n",
    "print('Minority size:', minority.shape)\n",
    "print('Majority size:', majority.shape)"
   ]
  },
  {
   "cell_type": "code",
   "execution_count": 18,
   "id": "ddb7ea8e",
   "metadata": {
    "ExecuteTime": {
     "end_time": "2023-05-03T14:28:53.256832Z",
     "start_time": "2023-05-03T14:28:53.244011Z"
    },
    "execution": {
     "iopub.execute_input": "2023-03-01T08:28:34.125292Z",
     "iopub.status.busy": "2023-03-01T08:28:34.124519Z",
     "iopub.status.idle": "2023-03-01T08:28:34.127814Z",
     "shell.execute_reply": "2023-03-01T08:28:34.127182Z",
     "shell.execute_reply.started": "2023-03-01T08:15:39.908369Z"
    },
    "papermill": {
     "duration": 0.091322,
     "end_time": "2023-03-01T08:28:34.127947",
     "exception": false,
     "start_time": "2023-03-01T08:28:34.036625",
     "status": "completed"
    },
    "tags": []
   },
   "outputs": [
    {
     "name": "stdout",
     "output_type": "stream",
     "text": [
      "Minority upsampled size: (416, 7)\n"
     ]
    }
   ],
   "source": [
    "# choosing upsample as even now we do not have too much data\n",
    "minority_upsample = resample(minority, replace=True, n_samples=majority.shape[0])\n",
    "print('Minority upsampled size:', minority_upsample.shape)"
   ]
  },
  {
   "cell_type": "code",
   "execution_count": 19,
   "id": "25023520",
   "metadata": {
    "ExecuteTime": {
     "end_time": "2023-05-03T14:28:53.272838Z",
     "start_time": "2023-05-03T14:28:53.258756Z"
    },
    "execution": {
     "iopub.execute_input": "2023-03-01T08:28:34.306727Z",
     "iopub.status.busy": "2023-03-01T08:28:34.306054Z",
     "iopub.status.idle": "2023-03-01T08:28:34.308397Z",
     "shell.execute_reply": "2023-03-01T08:28:34.308812Z",
     "shell.execute_reply.started": "2023-03-01T08:15:42.442410Z"
    },
    "papermill": {
     "duration": 0.092013,
     "end_time": "2023-03-01T08:28:34.308958",
     "exception": false,
     "start_time": "2023-03-01T08:28:34.216945",
     "status": "completed"
    },
    "tags": []
   },
   "outputs": [],
   "source": [
    "# merge majority with upsampled minority\n",
    "df = pd.concat([minority_upsample, majority], axis=0)"
   ]
  },
  {
   "cell_type": "code",
   "execution_count": 20,
   "id": "7540d81b",
   "metadata": {
    "ExecuteTime": {
     "end_time": "2023-05-03T14:28:53.288756Z",
     "start_time": "2023-05-03T14:28:53.274756Z"
    }
   },
   "outputs": [
    {
     "data": {
      "text/plain": [
       "(832, 7)"
      ]
     },
     "execution_count": 20,
     "metadata": {},
     "output_type": "execute_result"
    }
   ],
   "source": [
    "df.shape"
   ]
  },
  {
   "cell_type": "code",
   "execution_count": 21,
   "id": "41cceb45",
   "metadata": {
    "ExecuteTime": {
     "end_time": "2023-05-03T14:28:53.303753Z",
     "start_time": "2023-05-03T14:28:53.290757Z"
    }
   },
   "outputs": [],
   "source": [
    "df['dataset'] = df['dataset'].apply({1:0,2:1}.get)"
   ]
  },
  {
   "cell_type": "code",
   "execution_count": 22,
   "id": "823f279f",
   "metadata": {
    "ExecuteTime": {
     "end_time": "2023-05-03T14:28:53.319145Z",
     "start_time": "2023-05-03T14:28:53.305765Z"
    }
   },
   "outputs": [
    {
     "data": {
      "text/plain": [
       "array([1, 0], dtype=int64)"
      ]
     },
     "execution_count": 22,
     "metadata": {},
     "output_type": "execute_result"
    }
   ],
   "source": [
    "df['dataset'].unique()"
   ]
  },
  {
   "cell_type": "markdown",
   "id": "6d00c532",
   "metadata": {
    "papermill": {
     "duration": 0.078129,
     "end_time": "2023-03-01T08:28:34.466517",
     "exception": false,
     "start_time": "2023-03-01T08:28:34.388388",
     "status": "completed"
    },
    "tags": []
   },
   "source": [
    "## Split data for modeling\n",
    "This is very needed in order to be able to compare performance of model on unseen data. I will choose test size to be 0.25. Dataset is also split to X (features) and y (target) variables."
   ]
  },
  {
   "cell_type": "code",
   "execution_count": 23,
   "id": "870bd556",
   "metadata": {
    "ExecuteTime": {
     "end_time": "2023-05-03T14:28:53.382055Z",
     "start_time": "2023-05-03T14:28:53.323093Z"
    },
    "execution": {
     "iopub.execute_input": "2023-03-01T08:28:34.630075Z",
     "iopub.status.busy": "2023-03-01T08:28:34.629469Z",
     "iopub.status.idle": "2023-03-01T08:28:34.685825Z",
     "shell.execute_reply": "2023-03-01T08:28:34.685278Z",
     "shell.execute_reply.started": "2023-03-01T08:15:46.323569Z"
    },
    "papermill": {
     "duration": 0.140977,
     "end_time": "2023-03-01T08:28:34.685991",
     "exception": false,
     "start_time": "2023-03-01T08:28:34.545014",
     "status": "completed"
    },
    "tags": []
   },
   "outputs": [
    {
     "name": "stdout",
     "output_type": "stream",
     "text": [
      "Train values shape: (790, 6)\n",
      "Test values shape: (42, 6)\n",
      "Train target shape: (790,)\n",
      "Test target shape: (42,)\n"
     ]
    }
   ],
   "source": [
    "from sklearn.model_selection import train_test_split\n",
    "X_train, X_test, y_train, y_test = train_test_split(df.drop('dataset', axis=1), df['dataset'], test_size=0.05, random_state=123)\n",
    "\n",
    "print('Train values shape:', X_train.shape)\n",
    "print('Test values shape:', X_test.shape)\n",
    "print('Train target shape:', y_train.shape)\n",
    "print('Test target shape:', y_test.shape)"
   ]
  },
  {
   "cell_type": "markdown",
   "id": "0795dbda",
   "metadata": {
    "papermill": {
     "duration": 0.078294,
     "end_time": "2023-03-01T08:28:34.843552",
     "exception": false,
     "start_time": "2023-03-01T08:28:34.765258",
     "status": "completed"
    },
    "tags": []
   },
   "source": [
    "## Model selection\n",
    "We will use several popular models and see how they perform on our dataset.\n",
    "At the end we choose 3 best performing models and will merge them together."
   ]
  },
  {
   "cell_type": "code",
   "execution_count": 24,
   "id": "ab18f719",
   "metadata": {
    "ExecuteTime": {
     "end_time": "2023-05-03T14:28:53.538595Z",
     "start_time": "2023-05-03T14:28:53.384056Z"
    },
    "execution": {
     "iopub.execute_input": "2023-03-01T08:28:35.006111Z",
     "iopub.status.busy": "2023-03-01T08:28:35.005402Z",
     "iopub.status.idle": "2023-03-01T08:28:35.201650Z",
     "shell.execute_reply": "2023-03-01T08:28:35.201137Z",
     "shell.execute_reply.started": "2023-03-01T08:19:54.530991Z"
    },
    "papermill": {
     "duration": 0.279634,
     "end_time": "2023-03-01T08:28:35.201784",
     "exception": false,
     "start_time": "2023-03-01T08:28:34.922150",
     "status": "completed"
    },
    "tags": []
   },
   "outputs": [],
   "source": [
    "from sklearn.linear_model import LogisticRegression\n",
    "from sklearn.neural_network import MLPClassifier\n",
    "from sklearn.neighbors import KNeighborsClassifier\n",
    "from sklearn.svm import SVC\n",
    "from sklearn.ensemble import RandomForestClassifier\n",
    "from sklearn.metrics import classification_report, confusion_matrix, roc_auc_score\n",
    "from sklearn.tree import DecisionTreeClassifier"
   ]
  },
  {
   "cell_type": "markdown",
   "id": "69d098f9",
   "metadata": {},
   "source": [
    "# Logistic regression"
   ]
  },
  {
   "cell_type": "code",
   "execution_count": 25,
   "id": "61ca87c1",
   "metadata": {
    "ExecuteTime": {
     "end_time": "2023-05-03T14:28:53.695687Z",
     "start_time": "2023-05-03T14:28:53.539697Z"
    },
    "execution": {
     "iopub.execute_input": "2023-03-01T08:28:35.370606Z",
     "iopub.status.busy": "2023-03-01T08:28:35.369997Z",
     "iopub.status.idle": "2023-03-01T08:28:35.393777Z",
     "shell.execute_reply": "2023-03-01T08:28:35.394318Z",
     "shell.execute_reply.started": "2023-03-01T08:20:18.910777Z"
    },
    "papermill": {
     "duration": 0.11302,
     "end_time": "2023-03-01T08:28:35.394465",
     "exception": false,
     "start_time": "2023-03-01T08:28:35.281445",
     "status": "completed"
    },
    "tags": []
   },
   "outputs": [
    {
     "name": "stdout",
     "output_type": "stream",
     "text": [
      "LogisticRegression()\n",
      "Train performance\n",
      "-------------------------------------------------------\n",
      "              precision    recall  f1-score   support\n",
      "\n",
      "           0       0.77      0.61      0.68       401\n",
      "           1       0.67      0.81      0.73       389\n",
      "\n",
      "    accuracy                           0.71       790\n",
      "   macro avg       0.72      0.71      0.71       790\n",
      "weighted avg       0.72      0.71      0.71       790\n",
      "\n",
      "Test performance\n",
      "-------------------------------------------------------\n",
      "              precision    recall  f1-score   support\n",
      "\n",
      "           0     0.6875    0.7333    0.7097        15\n",
      "           1     0.8462    0.8148    0.8302        27\n",
      "\n",
      "    accuracy                         0.7857        42\n",
      "   macro avg     0.7668    0.7741    0.7699        42\n",
      "weighted avg     0.7895    0.7857    0.7871        42\n",
      "\n",
      "Roc_auc score\n",
      "-------------------------------------------------------\n",
      "0.7740740740740741\n",
      "\n",
      "Confusion matrix\n",
      "-------------------------------------------------------\n"
     ]
    },
    {
     "data": {
      "text/plain": [
       "<AxesSubplot:>"
      ]
     },
     "execution_count": 25,
     "metadata": {},
     "output_type": "execute_result"
    },
    {
     "data": {
      "image/png": "[encoded data removed]",
      "text/plain": [
       "<Figure size 432x288 with 2 Axes>"
      ]
     },
     "metadata": {
      "needs_background": "light"
     },
     "output_type": "display_data"
    }
   ],
   "source": [
    "# Logistic Regression\n",
    "logre = LogisticRegression()\n",
    "logre.fit(X_train, y_train)\n",
    "y_train_hat1 = logre.predict(X_train)\n",
    "y_test_hat1  = logre.predict(X_test)\n",
    "\n",
    "print(logre)\n",
    "print('Train performance')\n",
    "print('-------------------------------------------------------')\n",
    "print(classification_report(y_train, y_train_hat1))\n",
    "\n",
    "print('Test performance')\n",
    "print('-------------------------------------------------------')\n",
    "print(classification_report(y_test, y_test_hat1,digits=4))\n",
    "\n",
    "print('Roc_auc score')\n",
    "print('-------------------------------------------------------')\n",
    "print(roc_auc_score(y_test, y_test_hat1))\n",
    "print('')\n",
    "\n",
    "print('Confusion matrix')\n",
    "print('-------------------------------------------------------')\n",
    "cr = confusion_matrix(y_test, y_test_hat1)\n",
    "sns.heatmap(cr,annot=True)"
   ]
  },
  {
   "cell_type": "code",
   "execution_count": 26,
   "id": "cf7baf83",
   "metadata": {
    "ExecuteTime": {
     "end_time": "2023-05-03T14:28:53.820338Z",
     "start_time": "2023-05-03T14:28:53.699606Z"
    }
   },
   "outputs": [
    {
     "data": {
      "image/png": "[encoded data removed]",
      "text/plain": [
       "<Figure size 400x400 with 1 Axes>"
      ]
     },
     "metadata": {
      "needs_background": "light"
     },
     "output_type": "display_data"
    }
   ],
   "source": [
    "from sklearn.metrics import roc_curve, auc\n",
    "\n",
    "LR_fpr, LR_tpr, threshold = roc_curve(y_test, y_test_hat1)\n",
    "auc_LR = auc(LR_fpr, LR_tpr)\n",
    "\n",
    "\n",
    "\n",
    "plt.figure(figsize=(4,4), dpi=100)\n",
    "\n",
    "plt.plot(LR_fpr, LR_tpr, marker='.', label='LR (auc = %0.3f)' % auc_LR)\n",
    "\n",
    "plt.xlabel('False Positive Rate -->')\n",
    "plt.ylabel('True Positive Rate -->')\n",
    "\n",
    "plt.legend()\n",
    "\n",
    "plt.show()"
   ]
  },
  {
   "cell_type": "markdown",
   "id": "c1723236",
   "metadata": {
    "papermill": {
     "duration": 0.078995,
     "end_time": "2023-03-01T08:28:35.552829",
     "exception": false,
     "start_time": "2023-03-01T08:28:35.473834",
     "status": "completed"
    },
    "tags": []
   },
   "source": [
    "Ok, Logistic Regression worked fine, nothing special, but still 0.62 f1 score on test dataset is pretty well, model also does not overfit. But we want better score, let's try now SVM that should work well on low dimension data"
   ]
  },
  {
   "cell_type": "markdown",
   "id": "2e0221d7",
   "metadata": {},
   "source": [
    "# SVC"
   ]
  },
  {
   "cell_type": "code",
   "execution_count": 27,
   "id": "f7b936f5",
   "metadata": {
    "ExecuteTime": {
     "end_time": "2023-05-03T14:28:54.023655Z",
     "start_time": "2023-05-03T14:28:53.824338Z"
    },
    "execution": {
     "iopub.execute_input": "2023-03-01T08:28:35.721657Z",
     "iopub.status.busy": "2023-03-01T08:28:35.721039Z",
     "iopub.status.idle": "2023-03-01T08:28:35.760290Z",
     "shell.execute_reply": "2023-03-01T08:28:35.760734Z",
     "shell.execute_reply.started": "2023-03-01T08:20:38.810104Z"
    },
    "papermill": {
     "duration": 0.128081,
     "end_time": "2023-03-01T08:28:35.760884",
     "exception": false,
     "start_time": "2023-03-01T08:28:35.632803",
     "status": "completed"
    },
    "scrolled": true,
    "tags": []
   },
   "outputs": [
    {
     "name": "stdout",
     "output_type": "stream",
     "text": [
      "SVC()\n",
      "Train performance\n",
      "-------------------------------------------------------\n",
      "              precision    recall  f1-score   support\n",
      "\n",
      "           0       0.86      0.59      0.70       401\n",
      "           1       0.68      0.90      0.78       389\n",
      "\n",
      "    accuracy                           0.74       790\n",
      "   macro avg       0.77      0.75      0.74       790\n",
      "weighted avg       0.77      0.74      0.74       790\n",
      "\n",
      "SVC()\n",
      "-------------------------------------------------------\n",
      "              precision    recall  f1-score   support\n",
      "\n",
      "           0     0.6667    0.6667    0.6667        15\n",
      "           1     0.8148    0.8148    0.8148        27\n",
      "\n",
      "    accuracy                         0.7619        42\n",
      "   macro avg     0.7407    0.7407    0.7407        42\n",
      "weighted avg     0.7619    0.7619    0.7619        42\n",
      "\n",
      "Roc_auc score\n",
      "-------------------------------------------------------\n",
      "0.7407407407407409\n",
      "\n",
      "Confusion matrix\n",
      "-------------------------------------------------------\n"
     ]
    },
    {
     "data": {
      "text/plain": [
       "<AxesSubplot:>"
      ]
     },
     "execution_count": 27,
     "metadata": {},
     "output_type": "execute_result"
    },
    {
     "data": {
      "image/png": "[encoded data removed]",
      "text/plain": [
       "<Figure size 432x288 with 2 Axes>"
      ]
     },
     "metadata": {
      "needs_background": "light"
     },
     "output_type": "display_data"
    }
   ],
   "source": [
    "# Support Vector Machines\n",
    "svm = SVC()\n",
    "svm.fit(X_train, y_train)\n",
    "y_train_hat2 = svm.predict(X_train)\n",
    "y_test_hat2  = svm.predict(X_test)\n",
    "\n",
    "print(svm)\n",
    "print('Train performance')\n",
    "print('-------------------------------------------------------')\n",
    "print(classification_report(y_train, y_train_hat2))\n",
    "print(svm)\n",
    "#print('Test performance')\n",
    "print('-------------------------------------------------------')\n",
    "print(classification_report(y_test, y_test_hat2,digits=4))\n",
    "\n",
    "print('Roc_auc score')\n",
    "print('-------------------------------------------------------')\n",
    "print(roc_auc_score(y_test, y_test_hat2))\n",
    "print('')\n",
    "\n",
    "print('Confusion matrix')\n",
    "print('-------------------------------------------------------')\n",
    "cr = confusion_matrix(y_test, y_test_hat2)\n",
    "sns.heatmap(cr,annot=True)\n"
   ]
  },
  {
   "cell_type": "markdown",
   "id": "37c8377d",
   "metadata": {
    "papermill": {
     "duration": 0.08041,
     "end_time": "2023-03-01T08:28:36.193080",
     "exception": false,
     "start_time": "2023-03-01T08:28:36.112670",
     "status": "completed"
    },
    "tags": []
   },
   "source": [
    "OK, f1 increased to 0.64, model is not overtrained, even roc_auc is higher so our model is able to do classification better, SVM works fine.... but it's pretty much same as logistic regression, isn't it!? Let's try famous random forest classifier."
   ]
  },
  {
   "cell_type": "markdown",
   "id": "10450cb7",
   "metadata": {},
   "source": [
    "# Random Forest"
   ]
  },
  {
   "cell_type": "code",
   "execution_count": 28,
   "id": "6877c2da",
   "metadata": {
    "ExecuteTime": {
     "end_time": "2023-05-03T14:28:54.351985Z",
     "start_time": "2023-05-03T14:28:54.032812Z"
    },
    "execution": {
     "iopub.execute_input": "2023-03-01T08:28:36.362180Z",
     "iopub.status.busy": "2023-03-01T08:28:36.361541Z",
     "iopub.status.idle": "2023-03-01T08:28:37.003610Z",
     "shell.execute_reply": "2023-03-01T08:28:37.004054Z",
     "shell.execute_reply.started": "2023-03-01T08:20:58.261724Z"
    },
    "papermill": {
     "duration": 0.730932,
     "end_time": "2023-03-01T08:28:37.004221",
     "exception": false,
     "start_time": "2023-03-01T08:28:36.273289",
     "status": "completed"
    },
    "scrolled": true,
    "tags": []
   },
   "outputs": [
    {
     "name": "stdout",
     "output_type": "stream",
     "text": [
      "RandomForestClassifier(n_jobs=-1, random_state=123)\n",
      "Train performance\n",
      "-------------------------------------------------------\n",
      "              precision    recall  f1-score   support\n",
      "\n",
      "           0       1.00      1.00      1.00       401\n",
      "           1       1.00      1.00      1.00       389\n",
      "\n",
      "    accuracy                           1.00       790\n",
      "   macro avg       1.00      1.00      1.00       790\n",
      "weighted avg       1.00      1.00      1.00       790\n",
      "\n",
      "RandomForestClassifier(n_jobs=-1, random_state=123)\n",
      "-------------------------------------------------------\n",
      "              precision    recall  f1-score   support\n",
      "\n",
      "           0     1.0000    0.9333    0.9655        15\n",
      "           1     0.9643    1.0000    0.9818        27\n",
      "\n",
      "    accuracy                         0.9762        42\n",
      "   macro avg     0.9821    0.9667    0.9737        42\n",
      "weighted avg     0.9770    0.9762    0.9760        42\n",
      "\n",
      "Roc_auc score\n",
      "-------------------------------------------------------\n",
      "0.9666666666666667\n",
      "\n",
      "Confusion matrix\n",
      "-------------------------------------------------------\n"
     ]
    },
    {
     "data": {
      "text/plain": [
       "<AxesSubplot:>"
      ]
     },
     "execution_count": 28,
     "metadata": {},
     "output_type": "execute_result"
    },
    {
     "data": {
      "image/png": "[encoded data removed]",
      "text/plain": [
       "<Figure size 432x288 with 2 Axes>"
      ]
     },
     "metadata": {
      "needs_background": "light"
     },
     "output_type": "display_data"
    }
   ],
   "source": [
    "# Random Forest\n",
    "rfc = RandomForestClassifier(n_jobs=-1,random_state=123)\n",
    "rfc.fit(X_train, y_train)\n",
    "y_train_hat3 = rfc.predict(X_train)\n",
    "y_test_hat3 = rfc.predict(X_test)\n",
    "\n",
    "print(rfc)\n",
    "print('Train performance')\n",
    "print('-------------------------------------------------------')\n",
    "print(classification_report(y_train, y_train_hat3))\n",
    "\n",
    "print(rfc)\n",
    "#print('Test performance')\n",
    "print('-------------------------------------------------------')\n",
    "print(classification_report(y_test, y_test_hat3,digits=4))\n",
    "\n",
    "print('Roc_auc score')\n",
    "print('-------------------------------------------------------')\n",
    "print(roc_auc_score(y_test, y_test_hat3))\n",
    "print('')\n",
    "\n",
    "print('Confusion matrix')\n",
    "print('-------------------------------------------------------')\n",
    "cr = confusion_matrix(y_test, y_test_hat3)\n",
    "sns.heatmap(cr,annot=True)\n"
   ]
  },
  {
   "cell_type": "code",
   "execution_count": 29,
   "id": "6e3c5aaa",
   "metadata": {
    "ExecuteTime": {
     "end_time": "2023-05-03T14:28:54.477130Z",
     "start_time": "2023-05-03T14:28:54.354032Z"
    }
   },
   "outputs": [
    {
     "data": {
      "image/png": "[encoded data removed]",
      "text/plain": [
       "<Figure size 400x400 with 1 Axes>"
      ]
     },
     "metadata": {
      "needs_background": "light"
     },
     "output_type": "display_data"
    }
   ],
   "source": [
    "from sklearn.metrics import roc_curve, auc\n",
    "\n",
    "RFC_fpr, RFC_tpr, threshold = roc_curve(y_test, y_test_hat3)\n",
    "auc_RFC = auc(RFC_fpr, RFC_tpr)\n",
    "\n",
    "\n",
    "\n",
    "plt.figure(figsize=(4,4), dpi=100)\n",
    "\n",
    "plt.plot(RFC_fpr, RFC_tpr, marker='.', label='RFC (auc = %0.3f)' % auc_RFC)\n",
    "\n",
    "plt.xlabel('False Positive Rate -->')\n",
    "plt.ylabel('True Positive Rate -->')\n",
    "\n",
    "plt.legend()\n",
    "\n",
    "plt.show()"
   ]
  },
  {
   "cell_type": "markdown",
   "id": "9c4e627f",
   "metadata": {
    "papermill": {
     "duration": 0.081278,
     "end_time": "2023-03-01T08:28:37.165938",
     "exception": false,
     "start_time": "2023-03-01T08:28:37.084660",
     "status": "completed"
    },
    "tags": []
   },
   "source": [
    "Hell yeah! That's why it's so famous, got 0.84 f1 on test dataset, roc_auc reaching 0.85, all looks great just on fact model is overfitting training data... however, still generalize fine on test data."
   ]
  },
  {
   "cell_type": "markdown",
   "id": "8e941bc3",
   "metadata": {},
   "source": [
    "# KNN"
   ]
  },
  {
   "cell_type": "code",
   "execution_count": 30,
   "id": "51aced3c",
   "metadata": {
    "ExecuteTime": {
     "end_time": "2023-05-03T14:28:54.635712Z",
     "start_time": "2023-05-03T14:28:54.482153Z"
    },
    "execution": {
     "iopub.execute_input": "2023-03-01T08:28:39.075442Z",
     "iopub.status.busy": "2023-03-01T08:28:39.074673Z",
     "iopub.status.idle": "2023-03-01T08:28:39.131602Z",
     "shell.execute_reply": "2023-03-01T08:28:39.131133Z",
     "shell.execute_reply.started": "2023-03-01T08:21:43.663011Z"
    },
    "papermill": {
     "duration": 0.145872,
     "end_time": "2023-03-01T08:28:39.131735",
     "exception": false,
     "start_time": "2023-03-01T08:28:38.985863",
     "status": "completed"
    },
    "tags": []
   },
   "outputs": [
    {
     "name": "stdout",
     "output_type": "stream",
     "text": [
      "Train performance\n",
      "-------------------------------------------------------\n",
      "              precision    recall  f1-score   support\n",
      "\n",
      "           0       0.94      0.72      0.81       401\n",
      "           1       0.77      0.96      0.85       389\n",
      "\n",
      "    accuracy                           0.83       790\n",
      "   macro avg       0.85      0.84      0.83       790\n",
      "weighted avg       0.86      0.83      0.83       790\n",
      "\n",
      "KNeighborsClassifier()\n",
      "-------------------------------------------------------\n",
      "              precision    recall  f1-score   support\n",
      "\n",
      "           0     0.8000    0.8000    0.8000        15\n",
      "           1     0.8889    0.8889    0.8889        27\n",
      "\n",
      "    accuracy                         0.8571        42\n",
      "   macro avg     0.8444    0.8444    0.8444        42\n",
      "weighted avg     0.8571    0.8571    0.8571        42\n",
      "\n",
      "Roc_auc score\n",
      "-------------------------------------------------------\n",
      "0.8444444444444444\n",
      "\n",
      "Confusion matrix\n",
      "-------------------------------------------------------\n"
     ]
    },
    {
     "data": {
      "text/plain": [
       "<AxesSubplot:>"
      ]
     },
     "execution_count": 30,
     "metadata": {},
     "output_type": "execute_result"
    },
    {
     "data": {
      "image/png": "[encoded data removed]",
      "text/plain": [
       "<Figure size 432x288 with 2 Axes>"
      ]
     },
     "metadata": {
      "needs_background": "light"
     },
     "output_type": "display_data"
    }
   ],
   "source": [
    "# K-Neighbors\n",
    "knn = KNeighborsClassifier()\n",
    "knn.fit(X_train, y_train)\n",
    "y_train_hat4 = knn.predict(X_train)\n",
    "y_test_hat4  = knn.predict(X_test)\n",
    "\n",
    "print('Train performance')\n",
    "print('-------------------------------------------------------')\n",
    "print(classification_report(y_train, y_train_hat4))\n",
    "print(knn)\n",
    "#print('Test performance')\n",
    "print('-------------------------------------------------------')\n",
    "print(classification_report(y_test, y_test_hat4,digits=4))\n",
    "\n",
    "print('Roc_auc score')\n",
    "print('-------------------------------------------------------')\n",
    "print(roc_auc_score(y_test, y_test_hat4))\n",
    "print('')\n",
    "\n",
    "print('Confusion matrix')\n",
    "print('-------------------------------------------------------')\n",
    "cr = confusion_matrix(y_test, y_test_hat4)\n",
    "sns.heatmap(cr,annot=True)\n"
   ]
  },
  {
   "cell_type": "code",
   "execution_count": 31,
   "id": "d79a5163",
   "metadata": {
    "ExecuteTime": {
     "end_time": "2023-05-03T14:28:54.821767Z",
     "start_time": "2023-05-03T14:28:54.637684Z"
    }
   },
   "outputs": [
    {
     "data": {
      "image/png": "[encoded data removed]",
      "text/plain": [
       "<Figure size 400x400 with 1 Axes>"
      ]
     },
     "metadata": {
      "needs_background": "light"
     },
     "output_type": "display_data"
    }
   ],
   "source": [
    "from sklearn.metrics import roc_curve, auc\n",
    "\n",
    "LR_fpr, LR_tpr, threshold = roc_curve(y_test, y_test_hat1)\n",
    "auc_LR = auc(LR_fpr, LR_tpr)\n",
    "\n",
    "\n",
    "\n",
    "plt.figure(figsize=(4,4), dpi=100)\n",
    "\n",
    "plt.plot(LR_fpr, LR_tpr, marker='.', label='LR (auc = %0.3f)' % auc_LR)\n",
    "\n",
    "plt.xlabel('False Positive Rate -->')\n",
    "plt.ylabel('True Positive Rate -->')\n",
    "\n",
    "plt.legend()\n",
    "\n",
    "plt.show()"
   ]
  },
  {
   "cell_type": "markdown",
   "id": "eca40880",
   "metadata": {
    "papermill": {
     "duration": 0.087332,
     "end_time": "2023-03-01T08:28:39.301893",
     "exception": false,
     "start_time": "2023-03-01T08:28:39.214561",
     "status": "completed"
    },
    "tags": []
   },
   "source": [
    "Also not so good"
   ]
  },
  {
   "cell_type": "markdown",
   "id": "384a2288",
   "metadata": {},
   "source": [
    "# XGB"
   ]
  },
  {
   "cell_type": "code",
   "execution_count": 32,
   "id": "4e2d0bc1",
   "metadata": {
    "ExecuteTime": {
     "end_time": "2023-05-03T14:28:55.149468Z",
     "start_time": "2023-05-03T14:28:54.824769Z"
    },
    "execution": {
     "iopub.execute_input": "2023-03-01T08:28:39.661539Z",
     "iopub.status.busy": "2023-03-01T08:28:39.660705Z",
     "iopub.status.idle": "2023-03-01T08:28:44.132084Z",
     "shell.execute_reply": "2023-03-01T08:28:44.132548Z",
     "shell.execute_reply.started": "2023-03-01T08:22:06.894892Z"
    },
    "papermill": {
     "duration": 4.56746,
     "end_time": "2023-03-01T08:28:44.132736",
     "exception": false,
     "start_time": "2023-03-01T08:28:39.565276",
     "status": "completed"
    },
    "tags": []
   },
   "outputs": [
    {
     "name": "stdout",
     "output_type": "stream",
     "text": [
      "XGBClassifier(base_score=0.5, booster='gbtree', callbacks=None,\n",
      "              colsample_bylevel=1, colsample_bynode=1, colsample_bytree=1,\n",
      "              early_stopping_rounds=None, enable_categorical=False,\n",
      "              eval_metric=None, gamma=0, gpu_id=-1, grow_policy='depthwise',\n",
      "              importance_type=None, interaction_constraints='',\n",
      "              learning_rate=0.300000012, max_bin=256, max_cat_to_onehot=4,\n",
      "              max_delta_step=0, max_depth=6, max_leaves=0, min_child_weight=1,\n",
      "              missing=nan, monotone_constraints='()', n_estimators=100,\n",
      "              n_jobs=0, num_parallel_tree=1, predictor='auto', random_state=123,\n",
      "              reg_alpha=0, reg_lambda=1, ...)\n",
      "Train performance\n",
      "-------------------------------------------------------\n",
      "              precision    recall  f1-score   support\n",
      "\n",
      "           0       1.00      1.00      1.00       401\n",
      "           1       1.00      1.00      1.00       389\n",
      "\n",
      "    accuracy                           1.00       790\n",
      "   macro avg       1.00      1.00      1.00       790\n",
      "weighted avg       1.00      1.00      1.00       790\n",
      "\n",
      "XGBClassifier(base_score=0.5, booster='gbtree', callbacks=None,\n",
      "              colsample_bylevel=1, colsample_bynode=1, colsample_bytree=1,\n",
      "              early_stopping_rounds=None, enable_categorical=False,\n",
      "              eval_metric=None, gamma=0, gpu_id=-1, grow_policy='depthwise',\n",
      "              importance_type=None, interaction_constraints='',\n",
      "              learning_rate=0.300000012, max_bin=256, max_cat_to_onehot=4,\n",
      "              max_delta_step=0, max_depth=6, max_leaves=0, min_child_weight=1,\n",
      "              missing=nan, monotone_constraints='()', n_estimators=100,\n",
      "              n_jobs=0, num_parallel_tree=1, predictor='auto', random_state=123,\n",
      "              reg_alpha=0, reg_lambda=1, ...)\n",
      "-------------------------------------------------------\n",
      "              precision    recall  f1-score   support\n",
      "\n",
      "           0     1.0000    0.9333    0.9655        15\n",
      "           1     0.9643    1.0000    0.9818        27\n",
      "\n",
      "    accuracy                         0.9762        42\n",
      "   macro avg     0.9821    0.9667    0.9737        42\n",
      "weighted avg     0.9770    0.9762    0.9760        42\n",
      "\n",
      "Roc_auc score\n",
      "-------------------------------------------------------\n",
      "0.9666666666666667\n",
      "\n",
      "Confusion matrix\n",
      "-------------------------------------------------------\n"
     ]
    },
    {
     "data": {
      "text/plain": [
       "<AxesSubplot:>"
      ]
     },
     "execution_count": 32,
     "metadata": {},
     "output_type": "execute_result"
    },
    {
     "data": {
      "image/png": "[encoded data removed]",
      "text/plain": [
       "<Figure size 432x288 with 2 Axes>"
      ]
     },
     "metadata": {
      "needs_background": "light"
     },
     "output_type": "display_data"
    }
   ],
   "source": [
    "from xgboost import XGBClassifier\n",
    "\n",
    "xgc = XGBClassifier(random_state=123)\n",
    "xgc.fit(X_train, y_train)\n",
    "y_train_hat5 = xgc.predict(X_train)\n",
    "y_test_hat5  = xgc.predict(X_test)\n",
    "\n",
    "print(xgc)\n",
    "print('Train performance')\n",
    "print('-------------------------------------------------------')\n",
    "print(classification_report(y_train, y_train_hat5))\n",
    "\n",
    "print(xgc)\n",
    "#print('Test performance')\n",
    "print('-------------------------------------------------------')\n",
    "print(classification_report(y_test, y_test_hat5,digits=4))\n",
    "\n",
    "print('Roc_auc score')\n",
    "print('-------------------------------------------------------')\n",
    "print(roc_auc_score(y_test, y_test_hat5))\n",
    "print('')\n",
    "\n",
    "print('Confusion matrix')\n",
    "print('-------------------------------------------------------')\n",
    "cr = confusion_matrix(y_test, y_test_hat5)\n",
    "sns.heatmap(cr,annot=True)\n"
   ]
  },
  {
   "cell_type": "markdown",
   "id": "10aa6014",
   "metadata": {
    "papermill": {
     "duration": 0.081701,
     "end_time": "2023-03-01T08:28:44.297956",
     "exception": false,
     "start_time": "2023-03-01T08:28:44.216255",
     "status": "completed"
    },
    "tags": []
   },
   "source": [
    "Nice one, XGBoost is catching random forest in performance!"
   ]
  },
  {
   "cell_type": "markdown",
   "id": "e5741373",
   "metadata": {},
   "source": [
    "# EXTRA TREE"
   ]
  },
  {
   "cell_type": "code",
   "execution_count": 33,
   "id": "7ea2f489",
   "metadata": {
    "ExecuteTime": {
     "end_time": "2023-05-03T14:28:55.558056Z",
     "start_time": "2023-05-03T14:28:55.151473Z"
    },
    "execution": {
     "iopub.execute_input": "2023-03-01T08:28:44.507166Z",
     "iopub.status.busy": "2023-03-01T08:28:44.470697Z",
     "iopub.status.idle": "2023-03-01T08:28:44.681747Z",
     "shell.execute_reply": "2023-03-01T08:28:44.682210Z",
     "shell.execute_reply.started": "2023-03-01T08:22:37.026069Z"
    },
    "papermill": {
     "duration": 0.302023,
     "end_time": "2023-03-01T08:28:44.682368",
     "exception": false,
     "start_time": "2023-03-01T08:28:44.380345",
     "status": "completed"
    },
    "tags": []
   },
   "outputs": [
    {
     "name": "stdout",
     "output_type": "stream",
     "text": [
      "Train performance\n",
      "-------------------------------------------------------\n",
      "              precision    recall  f1-score   support\n",
      "\n",
      "           0       1.00      1.00      1.00       401\n",
      "           1       1.00      1.00      1.00       389\n",
      "\n",
      "    accuracy                           1.00       790\n",
      "   macro avg       1.00      1.00      1.00       790\n",
      "weighted avg       1.00      1.00      1.00       790\n",
      "\n",
      "ExtraTreesClassifier(random_state=123)\n",
      "Test performance\n",
      "-------------------------------------------------------\n",
      "              precision    recall  f1-score   support\n",
      "\n",
      "           0     1.0000    0.9333    0.9655        15\n",
      "           1     0.9643    1.0000    0.9818        27\n",
      "\n",
      "    accuracy                         0.9762        42\n",
      "   macro avg     0.9821    0.9667    0.9737        42\n",
      "weighted avg     0.9770    0.9762    0.9760        42\n",
      "\n",
      "Roc_auc score\n",
      "-------------------------------------------------------\n",
      "0.9666666666666667\n",
      "\n",
      "Confusion matrix\n",
      "-------------------------------------------------------\n"
     ]
    },
    {
     "data": {
      "text/plain": [
       "<AxesSubplot:>"
      ]
     },
     "execution_count": 33,
     "metadata": {},
     "output_type": "execute_result"
    },
    {
     "data": {
      "image/png": "[encoded data removed]",
      "text/plain": [
       "<Figure size 432x288 with 2 Axes>"
      ]
     },
     "metadata": {
      "needs_background": "light"
     },
     "output_type": "display_data"
    }
   ],
   "source": [
    "# Extra Trees\n",
    "from sklearn.ensemble import ExtraTreesClassifier\n",
    "\n",
    "etc = ExtraTreesClassifier(random_state=123)\n",
    "etc.fit(X_train, y_train)\n",
    "y_train_hat6 = etc.predict(X_train)\n",
    "y_test_hat6  = etc.predict(X_test)\n",
    "\n",
    "\n",
    "print('Train performance')\n",
    "print('-------------------------------------------------------')\n",
    "print(classification_report(y_train, y_train_hat6))\n",
    "print(etc)\n",
    "print('Test performance')\n",
    "print('-------------------------------------------------------')\n",
    "print(classification_report(y_test, y_test_hat6,digits=4))\n",
    "\n",
    "print('Roc_auc score')\n",
    "print('-------------------------------------------------------')\n",
    "print(roc_auc_score(y_test, y_test_hat6))\n",
    "print('')\n",
    "\n",
    "print('Confusion matrix')\n",
    "print('-------------------------------------------------------')\n",
    "cr = confusion_matrix(y_test, y_test_hat6)\n",
    "sns.heatmap(cr,annot=True)\n"
   ]
  },
  {
   "cell_type": "markdown",
   "id": "e0b4cc53",
   "metadata": {},
   "source": [
    "# DTC"
   ]
  },
  {
   "cell_type": "code",
   "execution_count": 34,
   "id": "02fa7fcd",
   "metadata": {
    "ExecuteTime": {
     "end_time": "2023-05-03T14:28:55.764453Z",
     "start_time": "2023-05-03T14:28:55.562085Z"
    }
   },
   "outputs": [
    {
     "name": "stdout",
     "output_type": "stream",
     "text": [
      "DecisionTreeClassifier(random_state=123)\n",
      "Train performance\n",
      "-------------------------------------------------------\n",
      "              precision    recall  f1-score   support\n",
      "\n",
      "           0       1.00      1.00      1.00       401\n",
      "           1       1.00      1.00      1.00       389\n",
      "\n",
      "    accuracy                           1.00       790\n",
      "   macro avg       1.00      1.00      1.00       790\n",
      "weighted avg       1.00      1.00      1.00       790\n",
      "\n",
      "DecisionTreeClassifier(random_state=123)\n",
      "Test performance\n",
      "-------------------------------------------------------\n",
      "              precision    recall  f1-score   support\n",
      "\n",
      "           0     1.0000    0.9333    0.9655        15\n",
      "           1     0.9643    1.0000    0.9818        27\n",
      "\n",
      "    accuracy                         0.9762        42\n",
      "   macro avg     0.9821    0.9667    0.9737        42\n",
      "weighted avg     0.9770    0.9762    0.9760        42\n",
      "\n",
      "Roc_auc score\n",
      "-------------------------------------------------------\n",
      "0.9666666666666667\n",
      "\n",
      "Confusion matrix\n",
      "-------------------------------------------------------\n"
     ]
    },
    {
     "data": {
      "text/plain": [
       "<AxesSubplot:>"
      ]
     },
     "execution_count": 34,
     "metadata": {},
     "output_type": "execute_result"
    },
    {
     "data": {
      "image/png": "[encoded data removed]",
      "text/plain": [
       "<Figure size 432x288 with 2 Axes>"
      ]
     },
     "metadata": {
      "needs_background": "light"
     },
     "output_type": "display_data"
    }
   ],
   "source": [
    "# Random Forest\n",
    "DTR = DecisionTreeClassifier(random_state=123)\n",
    "DTR.fit(X_train, y_train)\n",
    "y_train_hat7 = DTR.predict(X_train)\n",
    "y_test_hat7 = DTR.predict(X_test)\n",
    "\n",
    "print(DTR)\n",
    "print('Train performance')\n",
    "print('-------------------------------------------------------')\n",
    "print(classification_report(y_train, y_train_hat7))\n",
    "print(DTR)\n",
    "print('Test performance')\n",
    "print('-------------------------------------------------------')\n",
    "print(classification_report(y_test, y_test_hat7,digits=4))\n",
    "\n",
    "print('Roc_auc score')\n",
    "print('-------------------------------------------------------')\n",
    "print(roc_auc_score(y_test, y_test_hat7))\n",
    "print('')\n",
    "\n",
    "print('Confusion matrix')\n",
    "print('-------------------------------------------------------')\n",
    "cr = confusion_matrix(y_test, y_test_hat7)\n",
    "sns.heatmap(cr,annot=True)"
   ]
  },
  {
   "cell_type": "code",
   "execution_count": 54,
   "id": "f90a8897",
   "metadata": {
    "ExecuteTime": {
     "end_time": "2023-05-03T14:31:27.810235Z",
     "start_time": "2023-05-03T14:31:27.794251Z"
    }
   },
   "outputs": [
    {
     "name": "stdout",
     "output_type": "stream",
     "text": [
      "VotingClassifier()\n",
      "-------------------------------------------------------\n",
      "              precision    recall  f1-score   support\n",
      "\n",
      "           0     1.0000    0.9333    0.9655        15\n",
      "           1     0.9643    1.0000    0.9818        27\n",
      "\n",
      "    accuracy                         0.9762        42\n",
      "   macro avg     0.9821    0.9667    0.9737        42\n",
      "weighted avg     0.9770    0.9762    0.9760        42\n",
      "\n"
     ]
    }
   ],
   "source": [
    "print('VotingClassifier()')\n",
    "print('-------------------------------------------------------')\n",
    "print(classification_report(y_test, y_test_hat7,digits=4))\n"
   ]
  },
  {
   "cell_type": "code",
   "execution_count": 35,
   "id": "e6cba10f",
   "metadata": {
    "ExecuteTime": {
     "end_time": "2023-05-03T14:28:56.078614Z",
     "start_time": "2023-05-03T14:28:55.767459Z"
    }
   },
   "outputs": [
    {
     "name": "stdout",
     "output_type": "stream",
     "text": [
      "Train performance\n",
      "-------------------------------------------------------\n",
      "              precision    recall  f1-score   support\n",
      "\n",
      "           0       0.96      0.79      0.87       401\n",
      "           1       0.82      0.97      0.89       389\n",
      "\n",
      "    accuracy                           0.88       790\n",
      "   macro avg       0.89      0.88      0.88       790\n",
      "weighted avg       0.89      0.88      0.88       790\n",
      "\n",
      "GradientBoostingClassifier()\n",
      "Test performance\n",
      "-------------------------------------------------------\n",
      "              precision    recall  f1-score   support\n",
      "\n",
      "           0     0.9333    0.9333    0.9333        15\n",
      "           1     0.9630    0.9630    0.9630        27\n",
      "\n",
      "    accuracy                         0.9524        42\n",
      "   macro avg     0.9481    0.9481    0.9481        42\n",
      "weighted avg     0.9524    0.9524    0.9524        42\n",
      "\n",
      "Roc_auc score\n",
      "-------------------------------------------------------\n",
      "0.9481481481481481\n",
      "\n",
      "Confusion matrix\n",
      "-------------------------------------------------------\n"
     ]
    },
    {
     "data": {
      "text/plain": [
       "<AxesSubplot:>"
      ]
     },
     "execution_count": 35,
     "metadata": {},
     "output_type": "execute_result"
    },
    {
     "data": {
      "image/png": "[encoded data removed]",
      "text/plain": [
       "<Figure size 432x288 with 2 Axes>"
      ]
     },
     "metadata": {
      "needs_background": "light"
     },
     "output_type": "display_data"
    }
   ],
   "source": [
    "from sklearn.ensemble import GradientBoostingClassifier\n",
    "# Gradient boosting\n",
    "GB = GradientBoostingClassifier()\n",
    "GB.fit(X_train, y_train)\n",
    "y_train_hat8 = GB.predict(X_train)\n",
    "y_test_hat8 = GB.predict(X_test)\n",
    "\n",
    "\n",
    "print('Train performance')\n",
    "print('-------------------------------------------------------')\n",
    "print(classification_report(y_train, y_train_hat8))\n",
    "\n",
    "print(GB)\n",
    "print('Test performance')\n",
    "print('-------------------------------------------------------')\n",
    "print(classification_report(y_test, y_test_hat8,digits=4))\n",
    "\n",
    "print('Roc_auc score')\n",
    "print('-------------------------------------------------------')\n",
    "print(roc_auc_score(y_test, y_test_hat8))\n",
    "print('')\n",
    "\n",
    "print('Confusion matrix')\n",
    "print('-------------------------------------------------------')\n",
    "cr = confusion_matrix(y_test, y_test_hat8)\n",
    "sns.heatmap(cr,annot=True)\n"
   ]
  },
  {
   "cell_type": "code",
   "execution_count": null,
   "id": "b48a329d",
   "metadata": {},
   "outputs": [],
   "source": []
  },
  {
   "cell_type": "markdown",
   "id": "b4abcf80",
   "metadata": {},
   "source": [
    "# Voting"
   ]
  },
  {
   "cell_type": "code",
   "execution_count": 36,
   "id": "f10e91d8",
   "metadata": {
    "ExecuteTime": {
     "end_time": "2023-05-03T14:28:56.093996Z",
     "start_time": "2023-05-03T14:28:56.082606Z"
    }
   },
   "outputs": [],
   "source": [
    "from sklearn.ensemble import VotingClassifier\n",
    "from sklearn.metrics import f1_score, accuracy_score"
   ]
  },
  {
   "cell_type": "markdown",
   "id": "21dfe9cf",
   "metadata": {},
   "source": [
    "### LR,RFC,GB,ETC,XGB  ==  95.23"
   ]
  },
  {
   "cell_type": "code",
   "execution_count": 37,
   "id": "f0fa333d",
   "metadata": {
    "ExecuteTime": {
     "end_time": "2023-05-03T14:28:56.109126Z",
     "start_time": "2023-05-03T14:28:56.099004Z"
    }
   },
   "outputs": [],
   "source": [
    "# Voting Classifier\n",
    "voting1 = VotingClassifier(estimators=[\n",
    "          ('XGB',xgc),\n",
    "          ('ETC', etc),],\n",
    "           voting='hard')"
   ]
  },
  {
   "cell_type": "code",
   "execution_count": 38,
   "id": "d456f5da",
   "metadata": {
    "ExecuteTime": {
     "end_time": "2023-05-03T14:28:56.683265Z",
     "start_time": "2023-05-03T14:28:56.113476Z"
    }
   },
   "outputs": [
    {
     "name": "stdout",
     "output_type": "stream",
     "text": [
      "F1 Score:\n",
      "XGBClassifier 0.9818181818181818\n",
      "Accuracy:\n",
      "XGBClassifier 0.9761904761904762\n",
      "----------\n",
      "F1 Score:\n",
      "ExtraTreesClassifier 0.9818181818181818\n",
      "Accuracy:\n",
      "ExtraTreesClassifier 0.9761904761904762\n",
      "----------\n",
      "F1 Score:\n",
      "VotingClassifier 0.9818181818181818\n",
      "Accuracy:\n",
      "VotingClassifier 0.9761904761904762\n",
      "----------\n"
     ]
    }
   ],
   "source": [
    "# list of classifiers\n",
    "list_of_classifiers = [xgc,etc,voting1]\n",
    "# Loop scores\n",
    "for classifier in list_of_classifiers:\n",
    "    classifier.fit(X_train,y_train)\n",
    "    pred = classifier.predict(X_test)\n",
    "    print(\"F1 Score:\")\n",
    "    print(classifier.__class__.__name__, f1_score(y_test, pred))\n",
    "    print(\"Accuracy:\")\n",
    "    print(classifier.__class__.__name__, accuracy_score(y_test, pred))\n",
    "    print(\"----------\")"
   ]
  },
  {
   "cell_type": "markdown",
   "id": "799fc0b3",
   "metadata": {},
   "source": [
    "### LR,RFC,GB,XGB,DTC   ===   95.23"
   ]
  },
  {
   "cell_type": "markdown",
   "id": "4d59ae8d",
   "metadata": {},
   "source": [
    "### LR,RFC,GB,XGB    ===   85.71"
   ]
  },
  {
   "cell_type": "code",
   "execution_count": 39,
   "id": "5e83fb17",
   "metadata": {
    "ExecuteTime": {
     "end_time": "2023-05-03T14:28:56.698430Z",
     "start_time": "2023-05-03T14:28:56.686266Z"
    }
   },
   "outputs": [],
   "source": [
    "# Voting Classifier\n",
    "voting2 = VotingClassifier(estimators=[\n",
    "          ('lr', logre),\n",
    "          ('rf', rfc),\n",
    "          ('gb', GB),('XGB',xgc),('dtc',DTR) ],\n",
    "           voting='hard')"
   ]
  },
  {
   "cell_type": "code",
   "execution_count": 40,
   "id": "67c39c00",
   "metadata": {
    "ExecuteTime": {
     "end_time": "2023-05-03T14:29:00.420534Z",
     "start_time": "2023-05-03T14:28:56.701526Z"
    }
   },
   "outputs": [
    {
     "name": "stdout",
     "output_type": "stream",
     "text": [
      "F1 Score:\n",
      "LogisticRegression 0.830188679245283\n",
      "Accuracy:\n",
      "LogisticRegression 0.7857142857142857\n",
      "----------\n",
      "F1 Score:\n",
      "RandomForestClassifier 0.9818181818181818\n",
      "Accuracy:\n",
      "RandomForestClassifier 0.9761904761904762\n",
      "----------\n",
      "F1 Score:\n",
      "GradientBoostingClassifier 0.9629629629629629\n",
      "Accuracy:\n",
      "GradientBoostingClassifier 0.9523809523809523\n",
      "----------\n",
      "F1 Score:\n",
      "XGBClassifier 0.9818181818181818\n",
      "Accuracy:\n",
      "XGBClassifier 0.9761904761904762\n",
      "----------\n",
      "F1 Score:\n",
      "DecisionTreeClassifier 0.9818181818181818\n",
      "Accuracy:\n",
      "DecisionTreeClassifier 0.9761904761904762\n",
      "----------\n",
      "F1 Score:\n",
      "VotingClassifier 0.9818181818181818\n",
      "Accuracy:\n",
      "VotingClassifier 0.9761904761904762\n",
      "----------\n"
     ]
    }
   ],
   "source": [
    "# list of classifiers\n",
    "list_of_classifiers = [logre,rfc,GB,xgc,DTR,voting2]\n",
    "# Loop scores\n",
    "for classifier in list_of_classifiers:\n",
    "    classifier.fit(X_train,y_train)\n",
    "    pred = classifier.predict(X_test)\n",
    "    print(\"F1 Score:\")\n",
    "    print(classifier.__class__.__name__, f1_score(y_test, pred))\n",
    "    print(\"Accuracy:\")\n",
    "    print(classifier.__class__.__name__, accuracy_score(y_test, pred))\n",
    "    print(\"----------\")"
   ]
  },
  {
   "cell_type": "markdown",
   "id": "d0e9e94a",
   "metadata": {},
   "source": [
    "### LR,GB,XGB  ==  80.95"
   ]
  },
  {
   "cell_type": "code",
   "execution_count": 41,
   "id": "ac83777f",
   "metadata": {
    "ExecuteTime": {
     "end_time": "2023-05-03T14:29:00.436131Z",
     "start_time": "2023-05-03T14:29:00.425963Z"
    }
   },
   "outputs": [],
   "source": [
    "# Voting Classifier\n",
    "voting3 = VotingClassifier(estimators=[\n",
    "          ('lr', logre),\n",
    "          ('gb', GB),('XGB',xgc) ],\n",
    "           voting='hard')"
   ]
  },
  {
   "cell_type": "code",
   "execution_count": 42,
   "id": "140017c0",
   "metadata": {
    "ExecuteTime": {
     "end_time": "2023-05-03T14:29:01.047560Z",
     "start_time": "2023-05-03T14:29:00.438128Z"
    }
   },
   "outputs": [
    {
     "name": "stdout",
     "output_type": "stream",
     "text": [
      "F1 Score:\n",
      "LogisticRegression 0.830188679245283\n",
      "Accuracy:\n",
      "LogisticRegression 0.7857142857142857\n",
      "----------\n",
      "F1 Score:\n",
      "GradientBoostingClassifier 0.9629629629629629\n",
      "Accuracy:\n",
      "GradientBoostingClassifier 0.9523809523809523\n",
      "----------\n",
      "F1 Score:\n",
      "XGBClassifier 0.9818181818181818\n",
      "Accuracy:\n",
      "XGBClassifier 0.9761904761904762\n",
      "----------\n",
      "F1 Score:\n",
      "VotingClassifier 0.9454545454545454\n",
      "Accuracy:\n",
      "VotingClassifier 0.9285714285714286\n",
      "----------\n"
     ]
    }
   ],
   "source": [
    "# list of classifiers\n",
    "list_of_classifiers = [logre,GB,xgc,voting3]\n",
    "# Loop scores\n",
    "for classifier in list_of_classifiers:\n",
    "    classifier.fit(X_train,y_train)\n",
    "    pred = classifier.predict(X_test)\n",
    "    print(\"F1 Score:\")\n",
    "    print(classifier.__class__.__name__, f1_score(y_test, pred))\n",
    "    print(\"Accuracy:\")\n",
    "    print(classifier.__class__.__name__, accuracy_score(y_test, pred))\n",
    "    print(\"----------\")"
   ]
  },
  {
   "cell_type": "markdown",
   "id": "ade6aa36",
   "metadata": {},
   "source": [
    "### XGB,DTR == 97.61"
   ]
  },
  {
   "cell_type": "code",
   "execution_count": 43,
   "id": "c1e4dac2",
   "metadata": {
    "ExecuteTime": {
     "end_time": "2023-05-03T14:29:01.062563Z",
     "start_time": "2023-05-03T14:29:01.049561Z"
    }
   },
   "outputs": [],
   "source": [
    "# Voting Classifier\n",
    "voting4 = VotingClassifier(estimators=[\n",
    "          ('XGB',xgc),('DTC',DTR) ],\n",
    "           voting='hard')"
   ]
  },
  {
   "cell_type": "code",
   "execution_count": 44,
   "id": "1eaf3b7f",
   "metadata": {
    "ExecuteTime": {
     "end_time": "2023-05-03T14:29:01.294737Z",
     "start_time": "2023-05-03T14:29:01.065563Z"
    }
   },
   "outputs": [
    {
     "name": "stdout",
     "output_type": "stream",
     "text": [
      "F1 Score:\n",
      "XGBClassifier 0.9818181818181818\n",
      "Accuracy:\n",
      "XGBClassifier 0.9761904761904762\n",
      "----------\n",
      "F1 Score:\n",
      "DecisionTreeClassifier 0.9818181818181818\n",
      "Accuracy:\n",
      "DecisionTreeClassifier 0.9761904761904762\n",
      "----------\n",
      "F1 Score:\n",
      "VotingClassifier 1.0\n",
      "Accuracy:\n",
      "VotingClassifier 1.0\n",
      "----------\n"
     ]
    }
   ],
   "source": [
    "# list of classifiers\n",
    "list_of_classifiers = [xgc,DTR,voting4]\n",
    "# Loop scores\n",
    "for classifier in list_of_classifiers:\n",
    "    classifier.fit(X_train,y_train)\n",
    "    pred = classifier.predict(X_test)\n",
    "    print(\"F1 Score:\")\n",
    "    print(classifier.__class__.__name__, f1_score(y_test, pred))\n",
    "    print(\"Accuracy:\")\n",
    "    print(classifier.__class__.__name__, accuracy_score(y_test, pred))\n",
    "    print(\"----------\")"
   ]
  },
  {
   "cell_type": "markdown",
   "id": "f51d67d9",
   "metadata": {},
   "source": [
    "### DTR,RFC,GB,ETC,XGB == 95.23"
   ]
  },
  {
   "cell_type": "code",
   "execution_count": 45,
   "id": "2091d53a",
   "metadata": {
    "ExecuteTime": {
     "end_time": "2023-05-03T14:29:01.310737Z",
     "start_time": "2023-05-03T14:29:01.297738Z"
    }
   },
   "outputs": [],
   "source": [
    "# Voting Classifier\n",
    "voting5 = VotingClassifier(estimators=[\n",
    "          (\"DTC\",DTR),\n",
    "          ('rf', rfc),\n",
    "          ('gb', GB),('ETR',etc),('XGB',xgc) ],\n",
    "           voting='hard')"
   ]
  },
  {
   "cell_type": "code",
   "execution_count": 46,
   "id": "712cfaa7",
   "metadata": {
    "ExecuteTime": {
     "end_time": "2023-05-03T14:29:02.594078Z",
     "start_time": "2023-05-03T14:29:01.312739Z"
    }
   },
   "outputs": [
    {
     "name": "stdout",
     "output_type": "stream",
     "text": [
      "F1 Score:\n",
      "DecisionTreeClassifier 0.9818181818181818\n",
      "Accuracy:\n",
      "DecisionTreeClassifier 0.9761904761904762\n",
      "----------\n",
      "F1 Score:\n",
      "RandomForestClassifier 0.9818181818181818\n",
      "Accuracy:\n",
      "RandomForestClassifier 0.9761904761904762\n",
      "----------\n",
      "F1 Score:\n",
      "GradientBoostingClassifier 0.9629629629629629\n",
      "Accuracy:\n",
      "GradientBoostingClassifier 0.9523809523809523\n",
      "----------\n",
      "F1 Score:\n",
      "ExtraTreesClassifier 0.9818181818181818\n",
      "Accuracy:\n",
      "ExtraTreesClassifier 0.9761904761904762\n",
      "----------\n",
      "F1 Score:\n",
      "XGBClassifier 0.9818181818181818\n",
      "Accuracy:\n",
      "XGBClassifier 0.9761904761904762\n",
      "----------\n",
      "F1 Score:\n",
      "VotingClassifier 0.9818181818181818\n",
      "Accuracy:\n",
      "VotingClassifier 0.9761904761904762\n",
      "----------\n"
     ]
    }
   ],
   "source": [
    "# list of classifiers\n",
    "list_of_classifiers = [DTR,rfc,GB,etc,xgc,voting5]\n",
    "# Loop scores\n",
    "for classifier in list_of_classifiers:\n",
    "    classifier.fit(X_train,y_train)\n",
    "    pred = classifier.predict(X_test)\n",
    "    print(\"F1 Score:\")\n",
    "    print(classifier.__class__.__name__, f1_score(y_test, pred))\n",
    "    print(\"Accuracy:\")\n",
    "    print(classifier.__class__.__name__, accuracy_score(y_test, pred))\n",
    "    print(\"----------\")"
   ]
  },
  {
   "cell_type": "markdown",
   "id": "8e780bf9",
   "metadata": {},
   "source": [
    "### DTR,RFC,ETC,XGB  ==  97.61"
   ]
  },
  {
   "cell_type": "code",
   "execution_count": 47,
   "id": "98a58082",
   "metadata": {
    "ExecuteTime": {
     "end_time": "2023-05-03T14:29:02.609574Z",
     "start_time": "2023-05-03T14:29:02.597429Z"
    }
   },
   "outputs": [],
   "source": [
    "# Voting Classifier\n",
    "voting6 = VotingClassifier(estimators=[\n",
    "          (\"DTC\",DTR),\n",
    "          ('rf', rfc),\n",
    "          ('ETR',etc),('XGB',xgc) ],\n",
    "           voting='hard')"
   ]
  },
  {
   "cell_type": "code",
   "execution_count": 48,
   "id": "57bd2553",
   "metadata": {
    "ExecuteTime": {
     "end_time": "2023-05-03T14:29:03.570015Z",
     "start_time": "2023-05-03T14:29:02.611621Z"
    }
   },
   "outputs": [
    {
     "name": "stdout",
     "output_type": "stream",
     "text": [
      "F1 Score:\n",
      "DecisionTreeClassifier 0.9818181818181818\n",
      "Accuracy:\n",
      "DecisionTreeClassifier 0.9761904761904762\n",
      "----------\n",
      "F1 Score:\n",
      "RandomForestClassifier 0.9818181818181818\n",
      "Accuracy:\n",
      "RandomForestClassifier 0.9761904761904762\n",
      "----------\n",
      "F1 Score:\n",
      "ExtraTreesClassifier 0.9818181818181818\n",
      "Accuracy:\n",
      "ExtraTreesClassifier 0.9761904761904762\n",
      "----------\n",
      "F1 Score:\n",
      "XGBClassifier 0.9818181818181818\n",
      "Accuracy:\n",
      "XGBClassifier 0.9761904761904762\n",
      "----------\n",
      "F1 Score:\n",
      "VotingClassifier 0.9818181818181818\n",
      "Accuracy:\n",
      "VotingClassifier 0.9761904761904762\n",
      "----------\n"
     ]
    }
   ],
   "source": [
    "# list of classifiers\n",
    "list_of_classifiers = [DTR,rfc,etc,xgc,voting6]\n",
    "# Loop scores\n",
    "for classifier in list_of_classifiers:\n",
    "    classifier.fit(X_train,y_train)\n",
    "    pred = classifier.predict(X_test)\n",
    "    print(\"F1 Score:\")\n",
    "    print(classifier.__class__.__name__, f1_score(y_test, pred))\n",
    "    print(\"Accuracy:\")\n",
    "    print(classifier.__class__.__name__, accuracy_score(y_test, pred))\n",
    "    print(\"----------\")"
   ]
  },
  {
   "cell_type": "markdown",
   "id": "8bbd83b7",
   "metadata": {},
   "source": [
    "### xgc,DTR,etc == 97.61"
   ]
  },
  {
   "cell_type": "code",
   "execution_count": 49,
   "id": "75d09a8c",
   "metadata": {
    "ExecuteTime": {
     "end_time": "2023-05-03T14:29:03.585830Z",
     "start_time": "2023-05-03T14:29:03.573588Z"
    }
   },
   "outputs": [],
   "source": [
    "# Voting Classifier\n",
    "voting7 = VotingClassifier(estimators=[\n",
    "          ('XGB',xgc),('DTC',DTR),(\"ETC\",etc) ],\n",
    "           voting='hard')"
   ]
  },
  {
   "cell_type": "code",
   "execution_count": 50,
   "id": "5afda53b",
   "metadata": {
    "ExecuteTime": {
     "end_time": "2023-05-03T14:29:04.196718Z",
     "start_time": "2023-05-03T14:29:03.588831Z"
    }
   },
   "outputs": [
    {
     "name": "stdout",
     "output_type": "stream",
     "text": [
      "F1 Score:\n",
      "XGBClassifier 0.9818181818181818\n",
      "Accuracy:\n",
      "XGBClassifier 0.9761904761904762\n",
      "----------\n",
      "F1 Score:\n",
      "DecisionTreeClassifier 0.9818181818181818\n",
      "Accuracy:\n",
      "DecisionTreeClassifier 0.9761904761904762\n",
      "----------\n",
      "F1 Score:\n",
      "ExtraTreesClassifier 0.9818181818181818\n",
      "Accuracy:\n",
      "ExtraTreesClassifier 0.9761904761904762\n",
      "----------\n",
      "F1 Score:\n",
      "VotingClassifier 0.9818181818181818\n",
      "Accuracy:\n",
      "VotingClassifier 0.9761904761904762\n",
      "----------\n"
     ]
    }
   ],
   "source": [
    "# list of classifiers\n",
    "list_of_classifiers = [xgc,DTR,etc,voting7]\n",
    "# Loop scores\n",
    "for classifier in list_of_classifiers:\n",
    "    classifier.fit(X_train,y_train)\n",
    "    pred = classifier.predict(X_test)\n",
    "    print(\"F1 Score:\")\n",
    "    print(classifier.__class__.__name__, f1_score(y_test, pred))\n",
    "    print(\"Accuracy:\")\n",
    "    print(classifier.__class__.__name__, accuracy_score(y_test, pred))\n",
    "    print(\"----------\")"
   ]
  },
  {
   "cell_type": "code",
   "execution_count": 51,
   "id": "e0a571ba",
   "metadata": {
    "ExecuteTime": {
     "end_time": "2023-05-03T14:29:04.211964Z",
     "start_time": "2023-05-03T14:29:04.199950Z"
    }
   },
   "outputs": [],
   "source": [
    "# Voting Classifier\n",
    "voting8 = VotingClassifier(estimators=[\n",
    "          ('DTC',DTR),('rfc',rfc) ],\n",
    "           voting='hard')"
   ]
  },
  {
   "cell_type": "code",
   "execution_count": 52,
   "id": "de42f3df",
   "metadata": {
    "ExecuteTime": {
     "end_time": "2023-05-03T14:29:04.620669Z",
     "start_time": "2023-05-03T14:29:04.215262Z"
    }
   },
   "outputs": [
    {
     "name": "stdout",
     "output_type": "stream",
     "text": [
      "F1 Score:\n",
      "DecisionTreeClassifier 0.9818181818181818\n",
      "Accuracy:\n",
      "DecisionTreeClassifier 0.9761904761904762\n",
      "----------\n",
      "F1 Score:\n",
      "RandomForestClassifier 0.9818181818181818\n",
      "Accuracy:\n",
      "RandomForestClassifier 0.9761904761904762\n",
      "----------\n",
      "F1 Score:\n",
      "VotingClassifier 1.0\n",
      "Accuracy:\n",
      "VotingClassifier 1.0\n",
      "----------\n"
     ]
    }
   ],
   "source": [
    "# list of classifiers\n",
    "list_of_classifiers = [DTR,rfc,voting8]\n",
    "# Loop scores\n",
    "for classifier in list_of_classifiers:\n",
    "    classifier.fit(X_train,y_train)\n",
    "    pred = classifier.predict(X_test)\n",
    "    print(\"F1 Score:\")\n",
    "    print(classifier.__class__.__name__, f1_score(y_test, pred))\n",
    "    print(\"Accuracy:\")\n",
    "    print(classifier.__class__.__name__, accuracy_score(y_test, pred))\n",
    "    print(\"----------\")"
   ]
  },
  {
   "cell_type": "code",
   "execution_count": null,
   "id": "60ca2c3c",
   "metadata": {},
   "outputs": [],
   "source": []
  }
 ],
 "metadata": {
  "kernelspec": {
   "display_name": "Python 3 (ipykernel)",
   "language": "python",
   "name": "python3"
  },
  "language_info": {
   "codemirror_mode": {
    "name": "ipython",
    "version": 3
   },
   "file_extension": ".py",
   "mimetype": "text/x-python",
   "name": "python",
   "nbconvert_exporter": "python",
   "pygments_lexer": "ipython3",
   "version": "3.10.6"
  },
  "papermill": {
   "default_parameters": {},
   "duration": 108.650467,
   "end_time": "2023-03-01T08:28:46.179135",
   "environment_variables": {},
   "exception": null,
   "input_path": "__notebook__.ipynb",
   "output_path": "__notebook__.ipynb",
   "parameters": {},
   "start_time": "2023-03-01T08:26:57.528668",
   "version": "2.3.3"
  },
  "varInspector": {
   "cols": {
    "lenName": 16,
    "lenType": 16,
    "lenVar": 40
   },
   "kernels_config": {
    "python": {
     "delete_cmd_postfix": "",
     "delete_cmd_prefix": "del ",
     "library": "var_list.py",
     "varRefreshCmd": "print(var_dic_list())"
    },
    "r": {
     "delete_cmd_postfix": ") ",
     "delete_cmd_prefix": "rm(",
     "library": "var_list.r",
     "varRefreshCmd": "cat(var_dic_list()) "
    }
   },
   "types_to_exclude": [
    "module",
    "function",
    "builtin_function_or_method",
    "instance",
    "_Feature"
   ],
   "window_display": false
  }
 },
 "nbformat": 4,
 "nbformat_minor": 5
}
